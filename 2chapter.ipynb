{
 "cells": [
  {
   "cell_type": "code",
   "execution_count": 5,
   "metadata": {},
   "outputs": [],
   "source": [
    "import os\n",
    "HOCKEY_PATH = os.path.join(\"datasets\", \"hockey\")"
   ]
  },
  {
   "cell_type": "code",
   "execution_count": null,
   "metadata": {},
   "outputs": [],
   "source": []
  },
  {
   "cell_type": "code",
   "execution_count": 6,
   "metadata": {},
   "outputs": [],
   "source": [
    "import pandas as pd\n",
    "\n",
    "def load_hockey_data(hockey_path=HOCKEY_PATH):\n",
    "    csv_path = os.path.join(hockey_path, \"new_hockey_2019_01_18.csv\")\n",
    "    return pd.read_csv(csv_path)"
   ]
  },
  {
   "cell_type": "code",
   "execution_count": 7,
   "metadata": {},
   "outputs": [
    {
     "data": {
      "text/html": [
       "<div>\n",
       "<style scoped>\n",
       "    .dataframe tbody tr th:only-of-type {\n",
       "        vertical-align: middle;\n",
       "    }\n",
       "\n",
       "    .dataframe tbody tr th {\n",
       "        vertical-align: top;\n",
       "    }\n",
       "\n",
       "    .dataframe thead th {\n",
       "        text-align: right;\n",
       "    }\n",
       "</style>\n",
       "<table border=\"1\" class=\"dataframe\">\n",
       "  <thead>\n",
       "    <tr style=\"text-align: right;\">\n",
       "      <th></th>\n",
       "      <th>DataTime</th>\n",
       "      <th>Hosts</th>\n",
       "      <th>Guests</th>\n",
       "      <th>1PHosts</th>\n",
       "      <th>2PHosts</th>\n",
       "      <th>3PHosts</th>\n",
       "      <th>OTHosts</th>\n",
       "      <th>SSHosts</th>\n",
       "      <th>CountHosts</th>\n",
       "      <th>1PGuests</th>\n",
       "      <th>2PGuests</th>\n",
       "      <th>3PGuests</th>\n",
       "      <th>OTGuests</th>\n",
       "      <th>SSGuests</th>\n",
       "      <th>CountGuests</th>\n",
       "    </tr>\n",
       "  </thead>\n",
       "  <tbody>\n",
       "    <tr>\n",
       "      <th>0</th>\n",
       "      <td>2018-04-10</td>\n",
       "      <td>Торонто</td>\n",
       "      <td>Монреаль</td>\n",
       "      <td>1</td>\n",
       "      <td>1</td>\n",
       "      <td>0</td>\n",
       "      <td>1</td>\n",
       "      <td>0</td>\n",
       "      <td>3</td>\n",
       "      <td>1</td>\n",
       "      <td>1</td>\n",
       "      <td>0</td>\n",
       "      <td>0</td>\n",
       "      <td>0</td>\n",
       "      <td>2</td>\n",
       "    </tr>\n",
       "    <tr>\n",
       "      <th>1</th>\n",
       "      <td>2018-04-10</td>\n",
       "      <td>Вашингтон</td>\n",
       "      <td>Бостон</td>\n",
       "      <td>2</td>\n",
       "      <td>4</td>\n",
       "      <td>1</td>\n",
       "      <td>0</td>\n",
       "      <td>0</td>\n",
       "      <td>7</td>\n",
       "      <td>0</td>\n",
       "      <td>0</td>\n",
       "      <td>0</td>\n",
       "      <td>0</td>\n",
       "      <td>0</td>\n",
       "      <td>0</td>\n",
       "    </tr>\n",
       "    <tr>\n",
       "      <th>2</th>\n",
       "      <td>2018-04-10</td>\n",
       "      <td>Ванкувер</td>\n",
       "      <td>Калгари</td>\n",
       "      <td>1</td>\n",
       "      <td>0</td>\n",
       "      <td>4</td>\n",
       "      <td>0</td>\n",
       "      <td>0</td>\n",
       "      <td>5</td>\n",
       "      <td>0</td>\n",
       "      <td>0</td>\n",
       "      <td>2</td>\n",
       "      <td>0</td>\n",
       "      <td>0</td>\n",
       "      <td>2</td>\n",
       "    </tr>\n",
       "    <tr>\n",
       "      <th>3</th>\n",
       "      <td>2018-04-10</td>\n",
       "      <td>Сан-Хосе</td>\n",
       "      <td>Анахайм</td>\n",
       "      <td>1</td>\n",
       "      <td>1</td>\n",
       "      <td>0</td>\n",
       "      <td>0</td>\n",
       "      <td>0</td>\n",
       "      <td>2</td>\n",
       "      <td>1</td>\n",
       "      <td>1</td>\n",
       "      <td>3</td>\n",
       "      <td>0</td>\n",
       "      <td>0</td>\n",
       "      <td>5</td>\n",
       "    </tr>\n",
       "    <tr>\n",
       "      <th>4</th>\n",
       "      <td>2018-05-10</td>\n",
       "      <td>Баффало</td>\n",
       "      <td>Бостон</td>\n",
       "      <td>0</td>\n",
       "      <td>0</td>\n",
       "      <td>0</td>\n",
       "      <td>0</td>\n",
       "      <td>0</td>\n",
       "      <td>0</td>\n",
       "      <td>2</td>\n",
       "      <td>1</td>\n",
       "      <td>1</td>\n",
       "      <td>0</td>\n",
       "      <td>0</td>\n",
       "      <td>4</td>\n",
       "    </tr>\n",
       "  </tbody>\n",
       "</table>\n",
       "</div>"
      ],
      "text/plain": [
       "     DataTime      Hosts    Guests  1PHosts  2PHosts  3PHosts  OTHosts  \\\n",
       "0  2018-04-10    Торонто  Монреаль        1        1        0        1   \n",
       "1  2018-04-10  Вашингтон    Бостон        2        4        1        0   \n",
       "2  2018-04-10   Ванкувер   Калгари        1        0        4        0   \n",
       "3  2018-04-10   Сан-Хосе   Анахайм        1        1        0        0   \n",
       "4  2018-05-10    Баффало    Бостон        0        0        0        0   \n",
       "\n",
       "   SSHosts  CountHosts  1PGuests  2PGuests  3PGuests  OTGuests  SSGuests  \\\n",
       "0        0           3         1         1         0         0         0   \n",
       "1        0           7         0         0         0         0         0   \n",
       "2        0           5         0         0         2         0         0   \n",
       "3        0           2         1         1         3         0         0   \n",
       "4        0           0         2         1         1         0         0   \n",
       "\n",
       "   CountGuests  \n",
       "0            2  \n",
       "1            0  \n",
       "2            2  \n",
       "3            5  \n",
       "4            4  "
      ]
     },
     "execution_count": 7,
     "metadata": {},
     "output_type": "execute_result"
    }
   ],
   "source": [
    "hockey = load_hockey_data()\n",
    "hockey.head()"
   ]
  },
  {
   "cell_type": "code",
   "execution_count": 10,
   "metadata": {},
   "outputs": [
    {
     "data": {
      "text/plain": [
       "2018-11-24    15\n",
       "2018-11-22    14\n",
       "2018-12-30    14\n",
       "2018-02-11    13\n",
       "2018-12-28    13\n",
       "2019-11-01    12\n",
       "2018-12-16    12\n",
       "2018-12-21    12\n",
       "2018-12-10    12\n",
       "2019-01-01    12\n",
       "2018-12-23    12\n",
       "2018-02-12    12\n",
       "2019-01-13    11\n",
       "2018-07-12    11\n",
       "2018-10-14    11\n",
       "2018-07-10    11\n",
       "2018-04-11    11\n",
       "2019-09-01    11\n",
       "2018-11-25    11\n",
       "2018-12-19    11\n",
       "2018-10-31    11\n",
       "2018-09-12    11\n",
       "2018-11-18    10\n",
       "2018-05-10    10\n",
       "2018-12-12    10\n",
       "2019-01-16    10\n",
       "2018-11-28    10\n",
       "2018-10-26    10\n",
       "2018-05-12    10\n",
       "2018-11-16     9\n",
       "              ..\n",
       "2018-11-13     4\n",
       "2018-12-17     4\n",
       "2018-10-25     4\n",
       "2018-10-23     4\n",
       "2018-12-13     4\n",
       "2018-11-15     4\n",
       "2018-10-18     4\n",
       "2018-12-29     4\n",
       "2018-11-19     4\n",
       "2018-04-10     4\n",
       "2018-10-13     4\n",
       "2018-04-12     3\n",
       "2019-10-01     3\n",
       "2018-06-10     3\n",
       "2018-11-26     3\n",
       "2018-03-11     3\n",
       "2018-10-22     3\n",
       "2018-06-12     3\n",
       "2018-05-11     3\n",
       "2018-08-11     3\n",
       "2018-12-31     3\n",
       "2018-11-10     3\n",
       "2019-02-01     2\n",
       "2018-10-15     2\n",
       "2018-12-20     2\n",
       "2018-01-11     2\n",
       "2018-10-30     2\n",
       "2018-09-10     1\n",
       "2018-11-23     1\n",
       "2018-11-21     1\n",
       "Name: DataTime, Length: 103, dtype: int64"
      ]
     },
     "execution_count": 10,
     "metadata": {},
     "output_type": "execute_result"
    }
   ],
   "source": [
    "hockey['DataTime'].value_counts()"
   ]
  },
  {
   "cell_type": "code",
   "execution_count": 5,
   "metadata": {},
   "outputs": [
    {
     "data": {
      "text/html": [
       "<div>\n",
       "<style scoped>\n",
       "    .dataframe tbody tr th:only-of-type {\n",
       "        vertical-align: middle;\n",
       "    }\n",
       "\n",
       "    .dataframe tbody tr th {\n",
       "        vertical-align: top;\n",
       "    }\n",
       "\n",
       "    .dataframe thead th {\n",
       "        text-align: right;\n",
       "    }\n",
       "</style>\n",
       "<table border=\"1\" class=\"dataframe\">\n",
       "  <thead>\n",
       "    <tr style=\"text-align: right;\">\n",
       "      <th></th>\n",
       "      <th>1PHosts</th>\n",
       "      <th>2PHosts</th>\n",
       "      <th>3PHosts</th>\n",
       "      <th>OTHosts</th>\n",
       "      <th>SSHosts</th>\n",
       "      <th>1PGuests</th>\n",
       "      <th>2PGuests</th>\n",
       "      <th>3PGuests</th>\n",
       "      <th>OTGuests</th>\n",
       "      <th>SSGuests</th>\n",
       "      <th>CountHosts</th>\n",
       "      <th>CountGuests</th>\n",
       "    </tr>\n",
       "  </thead>\n",
       "  <tbody>\n",
       "    <tr>\n",
       "      <th>count</th>\n",
       "      <td>656.000000</td>\n",
       "      <td>656.000000</td>\n",
       "      <td>656.000000</td>\n",
       "      <td>656.000000</td>\n",
       "      <td>656.000000</td>\n",
       "      <td>656.000000</td>\n",
       "      <td>656.000000</td>\n",
       "      <td>656.000000</td>\n",
       "      <td>656.000000</td>\n",
       "      <td>656.000000</td>\n",
       "      <td>656.000000</td>\n",
       "      <td>656.00000</td>\n",
       "    </tr>\n",
       "    <tr>\n",
       "      <th>mean</th>\n",
       "      <td>0.967988</td>\n",
       "      <td>1.079268</td>\n",
       "      <td>1.065549</td>\n",
       "      <td>0.070122</td>\n",
       "      <td>0.022866</td>\n",
       "      <td>0.812500</td>\n",
       "      <td>0.998476</td>\n",
       "      <td>0.948171</td>\n",
       "      <td>0.092988</td>\n",
       "      <td>0.036585</td>\n",
       "      <td>3.205793</td>\n",
       "      <td>2.88872</td>\n",
       "    </tr>\n",
       "    <tr>\n",
       "      <th>std</th>\n",
       "      <td>0.960540</td>\n",
       "      <td>1.017314</td>\n",
       "      <td>1.103901</td>\n",
       "      <td>0.255547</td>\n",
       "      <td>0.149590</td>\n",
       "      <td>0.863101</td>\n",
       "      <td>0.986163</td>\n",
       "      <td>0.955688</td>\n",
       "      <td>0.290637</td>\n",
       "      <td>0.187885</td>\n",
       "      <td>1.771366</td>\n",
       "      <td>1.72935</td>\n",
       "    </tr>\n",
       "    <tr>\n",
       "      <th>min</th>\n",
       "      <td>0.000000</td>\n",
       "      <td>0.000000</td>\n",
       "      <td>0.000000</td>\n",
       "      <td>0.000000</td>\n",
       "      <td>0.000000</td>\n",
       "      <td>0.000000</td>\n",
       "      <td>0.000000</td>\n",
       "      <td>0.000000</td>\n",
       "      <td>0.000000</td>\n",
       "      <td>0.000000</td>\n",
       "      <td>0.000000</td>\n",
       "      <td>0.00000</td>\n",
       "    </tr>\n",
       "    <tr>\n",
       "      <th>25%</th>\n",
       "      <td>0.000000</td>\n",
       "      <td>0.000000</td>\n",
       "      <td>0.000000</td>\n",
       "      <td>0.000000</td>\n",
       "      <td>0.000000</td>\n",
       "      <td>0.000000</td>\n",
       "      <td>0.000000</td>\n",
       "      <td>0.000000</td>\n",
       "      <td>0.000000</td>\n",
       "      <td>0.000000</td>\n",
       "      <td>2.000000</td>\n",
       "      <td>2.00000</td>\n",
       "    </tr>\n",
       "    <tr>\n",
       "      <th>50%</th>\n",
       "      <td>1.000000</td>\n",
       "      <td>1.000000</td>\n",
       "      <td>1.000000</td>\n",
       "      <td>0.000000</td>\n",
       "      <td>0.000000</td>\n",
       "      <td>1.000000</td>\n",
       "      <td>1.000000</td>\n",
       "      <td>1.000000</td>\n",
       "      <td>0.000000</td>\n",
       "      <td>0.000000</td>\n",
       "      <td>3.000000</td>\n",
       "      <td>3.00000</td>\n",
       "    </tr>\n",
       "    <tr>\n",
       "      <th>75%</th>\n",
       "      <td>1.000000</td>\n",
       "      <td>2.000000</td>\n",
       "      <td>2.000000</td>\n",
       "      <td>0.000000</td>\n",
       "      <td>0.000000</td>\n",
       "      <td>1.000000</td>\n",
       "      <td>2.000000</td>\n",
       "      <td>2.000000</td>\n",
       "      <td>0.000000</td>\n",
       "      <td>0.000000</td>\n",
       "      <td>4.000000</td>\n",
       "      <td>4.00000</td>\n",
       "    </tr>\n",
       "    <tr>\n",
       "      <th>max</th>\n",
       "      <td>5.000000</td>\n",
       "      <td>5.000000</td>\n",
       "      <td>5.000000</td>\n",
       "      <td>1.000000</td>\n",
       "      <td>1.000000</td>\n",
       "      <td>4.000000</td>\n",
       "      <td>5.000000</td>\n",
       "      <td>4.000000</td>\n",
       "      <td>1.000000</td>\n",
       "      <td>1.000000</td>\n",
       "      <td>9.000000</td>\n",
       "      <td>9.00000</td>\n",
       "    </tr>\n",
       "  </tbody>\n",
       "</table>\n",
       "</div>"
      ],
      "text/plain": [
       "          1PHosts     2PHosts     3PHosts     OTHosts     SSHosts    1PGuests  \\\n",
       "count  656.000000  656.000000  656.000000  656.000000  656.000000  656.000000   \n",
       "mean     0.967988    1.079268    1.065549    0.070122    0.022866    0.812500   \n",
       "std      0.960540    1.017314    1.103901    0.255547    0.149590    0.863101   \n",
       "min      0.000000    0.000000    0.000000    0.000000    0.000000    0.000000   \n",
       "25%      0.000000    0.000000    0.000000    0.000000    0.000000    0.000000   \n",
       "50%      1.000000    1.000000    1.000000    0.000000    0.000000    1.000000   \n",
       "75%      1.000000    2.000000    2.000000    0.000000    0.000000    1.000000   \n",
       "max      5.000000    5.000000    5.000000    1.000000    1.000000    4.000000   \n",
       "\n",
       "         2PGuests    3PGuests    OTGuests    SSGuests  CountHosts  CountGuests  \n",
       "count  656.000000  656.000000  656.000000  656.000000  656.000000    656.00000  \n",
       "mean     0.998476    0.948171    0.092988    0.036585    3.205793      2.88872  \n",
       "std      0.986163    0.955688    0.290637    0.187885    1.771366      1.72935  \n",
       "min      0.000000    0.000000    0.000000    0.000000    0.000000      0.00000  \n",
       "25%      0.000000    0.000000    0.000000    0.000000    2.000000      2.00000  \n",
       "50%      1.000000    1.000000    0.000000    0.000000    3.000000      3.00000  \n",
       "75%      2.000000    2.000000    0.000000    0.000000    4.000000      4.00000  \n",
       "max      5.000000    4.000000    1.000000    1.000000    9.000000      9.00000  "
      ]
     },
     "execution_count": 5,
     "metadata": {},
     "output_type": "execute_result"
    }
   ],
   "source": [
    "hockey.describe()"
   ]
  },
  {
   "cell_type": "code",
   "execution_count": 7,
   "metadata": {},
   "outputs": [
    {
     "data": {
      "text/plain": [
       "array([[<matplotlib.axes._subplots.AxesSubplot object at 0x000000001221E630>,\n",
       "        <matplotlib.axes._subplots.AxesSubplot object at 0x000000001224F9B0>,\n",
       "        <matplotlib.axes._subplots.AxesSubplot object at 0x0000000012279F28>],\n",
       "       [<matplotlib.axes._subplots.AxesSubplot object at 0x00000000122AA4E0>,\n",
       "        <matplotlib.axes._subplots.AxesSubplot object at 0x00000000122D2A58>,\n",
       "        <matplotlib.axes._subplots.AxesSubplot object at 0x00000000122FBFD0>],\n",
       "       [<matplotlib.axes._subplots.AxesSubplot object at 0x000000001232B588>,\n",
       "        <matplotlib.axes._subplots.AxesSubplot object at 0x0000000012353B38>,\n",
       "        <matplotlib.axes._subplots.AxesSubplot object at 0x0000000012353B70>],\n",
       "       [<matplotlib.axes._subplots.AxesSubplot object at 0x00000000123AA630>,\n",
       "        <matplotlib.axes._subplots.AxesSubplot object at 0x00000000123D3BA8>,\n",
       "        <matplotlib.axes._subplots.AxesSubplot object at 0x0000000012403160>]],\n",
       "      dtype=object)"
      ]
     },
     "execution_count": 7,
     "metadata": {},
     "output_type": "execute_result"
    },
    {
     "data": {
      "image/png": "[encoded data removed]",
      "text/plain": [
       "<Figure size 1440x1080 with 12 Axes>"
      ]
     },
     "metadata": {
      "needs_background": "light"
     },
     "output_type": "display_data"
    }
   ],
   "source": [
    "hockey.hist(figsize=(20,15))"
   ]
  },
  {
   "cell_type": "code",
   "execution_count": 9,
   "metadata": {},
   "outputs": [],
   "source": [
    "from sklearn.model_selection import train_test_split\n",
    "\n",
    "train_set, test_set = train_test_split(hockey, test_size=0.2, random_state=42)"
   ]
  },
  {
   "cell_type": "code",
   "execution_count": 10,
   "metadata": {},
   "outputs": [
    {
     "data": {
      "text/html": [
       "<div>\n",
       "<style scoped>\n",
       "    .dataframe tbody tr th:only-of-type {\n",
       "        vertical-align: middle;\n",
       "    }\n",
       "\n",
       "    .dataframe tbody tr th {\n",
       "        vertical-align: top;\n",
       "    }\n",
       "\n",
       "    .dataframe thead th {\n",
       "        text-align: right;\n",
       "    }\n",
       "</style>\n",
       "<table border=\"1\" class=\"dataframe\">\n",
       "  <thead>\n",
       "    <tr style=\"text-align: right;\">\n",
       "      <th></th>\n",
       "      <th>Хозяева</th>\n",
       "      <th>Гости</th>\n",
       "      <th>1PHosts</th>\n",
       "      <th>2PHosts</th>\n",
       "      <th>3PHosts</th>\n",
       "      <th>OTHosts</th>\n",
       "      <th>SSHosts</th>\n",
       "      <th>1PGuests</th>\n",
       "      <th>2PGuests</th>\n",
       "      <th>3PGuests</th>\n",
       "      <th>OTGuests</th>\n",
       "      <th>SSGuests</th>\n",
       "    </tr>\n",
       "  </thead>\n",
       "  <tbody>\n",
       "    <tr>\n",
       "      <th>192</th>\n",
       "      <td>Ванкувер</td>\n",
       "      <td>Колорадо</td>\n",
       "      <td>1</td>\n",
       "      <td>3</td>\n",
       "      <td>2</td>\n",
       "      <td>1</td>\n",
       "      <td>0</td>\n",
       "      <td>0</td>\n",
       "      <td>4</td>\n",
       "      <td>2</td>\n",
       "      <td>0</td>\n",
       "      <td>0</td>\n",
       "    </tr>\n",
       "    <tr>\n",
       "      <th>265</th>\n",
       "      <td>Нью-Джерси</td>\n",
       "      <td>Питтсбург</td>\n",
       "      <td>1</td>\n",
       "      <td>1</td>\n",
       "      <td>2</td>\n",
       "      <td>0</td>\n",
       "      <td>0</td>\n",
       "      <td>1</td>\n",
       "      <td>0</td>\n",
       "      <td>1</td>\n",
       "      <td>0</td>\n",
       "      <td>0</td>\n",
       "    </tr>\n",
       "    <tr>\n",
       "      <th>101</th>\n",
       "      <td>Филадельфия</td>\n",
       "      <td>Нью-Джерси</td>\n",
       "      <td>1</td>\n",
       "      <td>1</td>\n",
       "      <td>3</td>\n",
       "      <td>0</td>\n",
       "      <td>0</td>\n",
       "      <td>1</td>\n",
       "      <td>0</td>\n",
       "      <td>1</td>\n",
       "      <td>0</td>\n",
       "      <td>0</td>\n",
       "    </tr>\n",
       "    <tr>\n",
       "      <th>625</th>\n",
       "      <td>Айлендерс</td>\n",
       "      <td>Чикаго</td>\n",
       "      <td>1</td>\n",
       "      <td>1</td>\n",
       "      <td>0</td>\n",
       "      <td>1</td>\n",
       "      <td>0</td>\n",
       "      <td>1</td>\n",
       "      <td>0</td>\n",
       "      <td>1</td>\n",
       "      <td>0</td>\n",
       "      <td>0</td>\n",
       "    </tr>\n",
       "    <tr>\n",
       "      <th>523</th>\n",
       "      <td>Аризона</td>\n",
       "      <td>Айлендерс</td>\n",
       "      <td>1</td>\n",
       "      <td>0</td>\n",
       "      <td>0</td>\n",
       "      <td>0</td>\n",
       "      <td>0</td>\n",
       "      <td>1</td>\n",
       "      <td>2</td>\n",
       "      <td>0</td>\n",
       "      <td>0</td>\n",
       "      <td>0</td>\n",
       "    </tr>\n",
       "  </tbody>\n",
       "</table>\n",
       "</div>"
      ],
      "text/plain": [
       "         Хозяева       Гости  1PHosts  2PHosts  3PHosts  OTHosts  SSHosts  \\\n",
       "192     Ванкувер    Колорадо        1        3        2        1        0   \n",
       "265   Нью-Джерси   Питтсбург        1        1        2        0        0   \n",
       "101  Филадельфия  Нью-Джерси        1        1        3        0        0   \n",
       "625    Айлендерс      Чикаго        1        1        0        1        0   \n",
       "523      Аризона   Айлендерс        1        0        0        0        0   \n",
       "\n",
       "     1PGuests  2PGuests  3PGuests  OTGuests  SSGuests  \n",
       "192         0         4         2         0         0  \n",
       "265         1         0         1         0         0  \n",
       "101         1         0         1         0         0  \n",
       "625         1         0         1         0         0  \n",
       "523         1         2         0         0         0  "
      ]
     },
     "execution_count": 10,
     "metadata": {},
     "output_type": "execute_result"
    }
   ],
   "source": [
    "test_set.head()"
   ]
  },
  {
   "cell_type": "code",
   "execution_count": 19,
   "metadata": {},
   "outputs": [
    {
     "data": {
      "text/plain": [
       "<matplotlib.axes._subplots.AxesSubplot at 0x577ca58>"
      ]
     },
     "execution_count": 19,
     "metadata": {},
     "output_type": "execute_result"
    },
    {
     "data": {
      "image/png": "[encoded data removed]",
      "text/plain": [
       "<Figure size 432x288 with 1 Axes>"
      ]
     },
     "metadata": {
      "needs_background": "light"
     },
     "output_type": "display_data"
    }
   ],
   "source": [
    "hockey[\"1PHosts\"].where(hockey[\"Хозяева\"] == \"Лос-Анджелес\").hist()\n",
    "hockey[\"1PGuests\"].where(hockey[\"Гости\"] == \"Лос-Анджелес\").hist()"
   ]
  },
  {
   "cell_type": "code",
   "execution_count": 21,
   "metadata": {},
   "outputs": [
    {
     "data": {
      "text/plain": [
       "<matplotlib.axes._subplots.AxesSubplot at 0x6f580b8>"
      ]
     },
     "execution_count": 21,
     "metadata": {},
     "output_type": "execute_result"
    },
    {
     "data": {
      "image/png": "[encoded data removed]",
      "text/plain": [
       "<Figure size 432x288 with 1 Axes>"
      ]
     },
     "metadata": {
      "needs_background": "light"
     },
     "output_type": "display_data"
    }
   ],
   "source": [
    "hockey[\"2PHosts\"].where(hockey[\"Хозяева\"] == \"Лос-Анджелес\").hist()\n",
    "hockey[\"2PGuests\"].where(hockey[\"Гости\"] == \"Лос-Анджелес\").hist()"
   ]
  },
  {
   "cell_type": "code",
   "execution_count": 36,
   "metadata": {},
   "outputs": [
    {
     "data": {
      "text/plain": [
       "array([[<matplotlib.axes._subplots.AxesSubplot object at 0x0000000019744B38>,\n",
       "        <matplotlib.axes._subplots.AxesSubplot object at 0x000000001976EEF0>],\n",
       "       [<matplotlib.axes._subplots.AxesSubplot object at 0x000000001979D438>,\n",
       "        <matplotlib.axes._subplots.AxesSubplot object at 0x00000000197C59B0>]],\n",
       "      dtype=object)"
      ]
     },
     "execution_count": 36,
     "metadata": {},
     "output_type": "execute_result"
    },
    {
     "data": {
      "image/png": "[encoded data removed]",
      "text/plain": [
       "<Figure size 720x360 with 4 Axes>"
      ]
     },
     "metadata": {
      "needs_background": "light"
     },
     "output_type": "display_data"
    },
    {
     "data": {
      "image/png": "[encoded data removed]",
      "text/plain": [
       "<Figure size 720x360 with 4 Axes>"
      ]
     },
     "metadata": {
      "needs_background": "light"
     },
     "output_type": "display_data"
    }
   ],
   "source": [
    "hockey[[\"1PHosts\",\"2PHosts\",\"3PHosts\"]].where(hockey[\"Хозяева\"] == \"Лос-Анджелес\").hist(figsize=(10,5))\n",
    "hockey[[\"1PGuests\",\"2PGuests\",\"3PGuests\"]].where(hockey[\"Гости\"] == \"Лос-Анджелес\").hist(figsize=(10,5))"
   ]
  },
  {
   "cell_type": "code",
   "execution_count": 33,
   "metadata": {},
   "outputs": [
    {
     "data": {
      "text/plain": [
       "1.0    12\n",
       "0.0     9\n",
       "3.0     1\n",
       "2.0     1\n",
       "Name: 1PHosts, dtype: int64"
      ]
     },
     "execution_count": 33,
     "metadata": {},
     "output_type": "execute_result"
    }
   ],
   "source": [
    "hockey[\"1PHosts\"].where(hockey[\"Хозяева\"] == \"Лос-Анджелес\").value_counts()"
   ]
  },
  {
   "cell_type": "code",
   "execution_count": 37,
   "metadata": {},
   "outputs": [
    {
     "data": {
      "text/plain": [
       "0.0    11\n",
       "2.0     7\n",
       "1.0     5\n",
       "Name: 2PHosts, dtype: int64"
      ]
     },
     "execution_count": 37,
     "metadata": {},
     "output_type": "execute_result"
    }
   ],
   "source": [
    "hockey[\"2PHosts\"].where(hockey[\"Хозяева\"] == \"Лос-Анджелес\").value_counts()"
   ]
  },
  {
   "cell_type": "code",
   "execution_count": 38,
   "metadata": {},
   "outputs": [
    {
     "data": {
      "text/plain": [
       "1.0    8\n",
       "0.0    8\n",
       "2.0    6\n",
       "3.0    1\n",
       "Name: 3PHosts, dtype: int64"
      ]
     },
     "execution_count": 38,
     "metadata": {},
     "output_type": "execute_result"
    }
   ],
   "source": [
    "hockey[\"3PHosts\"].where(hockey[\"Хозяева\"] == \"Лос-Анджелес\").value_counts()"
   ]
  },
  {
   "cell_type": "code",
   "execution_count": 39,
   "metadata": {},
   "outputs": [
    {
     "data": {
      "text/plain": [
       "0.0    15\n",
       "1.0     4\n",
       "2.0     2\n",
       "Name: 1PGuests, dtype: int64"
      ]
     },
     "execution_count": 39,
     "metadata": {},
     "output_type": "execute_result"
    }
   ],
   "source": [
    "hockey[\"1PGuests\"].where(hockey[\"Гости\"] == \"Лос-Анджелес\").value_counts()"
   ]
  },
  {
   "cell_type": "code",
   "execution_count": 40,
   "metadata": {},
   "outputs": [
    {
     "data": {
      "text/plain": [
       "0.0    8\n",
       "1.0    7\n",
       "2.0    5\n",
       "3.0    1\n",
       "Name: 2PGuests, dtype: int64"
      ]
     },
     "execution_count": 40,
     "metadata": {},
     "output_type": "execute_result"
    }
   ],
   "source": [
    "hockey[\"2PGuests\"].where(hockey[\"Гости\"] == \"Лос-Анджелес\").value_counts()"
   ]
  },
  {
   "cell_type": "code",
   "execution_count": 41,
   "metadata": {},
   "outputs": [
    {
     "data": {
      "text/plain": [
       "0.0    14\n",
       "1.0     7\n",
       "Name: 3PGuests, dtype: int64"
      ]
     },
     "execution_count": 41,
     "metadata": {},
     "output_type": "execute_result"
    }
   ],
   "source": [
    "hockey[\"3PGuests\"].where(hockey[\"Гости\"] == \"Лос-Анджелес\").value_counts()"
   ]
  },
  {
   "cell_type": "code",
   "execution_count": 42,
   "metadata": {},
   "outputs": [],
   "source": [
    "hockey = hockey.rename(columns={'Гости': 'Guests', 'Хозяева': 'Hosts'})"
   ]
  },
  {
   "cell_type": "code",
   "execution_count": 43,
   "metadata": {},
   "outputs": [],
   "source": [
    "hockey.to_csv(os.path.join(\"datasets\", \"hockey\", \"hockey.csv\"), sep=',', encoding='utf-8', index=False)"
   ]
  },
  {
   "cell_type": "code",
   "execution_count": 44,
   "metadata": {},
   "outputs": [],
   "source": [
    "from sklearn.model_selection import train_test_split\n",
    "\n",
    "train_set, test_set = train_test_split(hockey, test_size=0.2, random_state=42)"
   ]
  },
  {
   "cell_type": "code",
   "execution_count": 45,
   "metadata": {},
   "outputs": [
    {
     "data": {
      "text/html": [
       "<div>\n",
       "<style scoped>\n",
       "    .dataframe tbody tr th:only-of-type {\n",
       "        vertical-align: middle;\n",
       "    }\n",
       "\n",
       "    .dataframe tbody tr th {\n",
       "        vertical-align: top;\n",
       "    }\n",
       "\n",
       "    .dataframe thead th {\n",
       "        text-align: right;\n",
       "    }\n",
       "</style>\n",
       "<table border=\"1\" class=\"dataframe\">\n",
       "  <thead>\n",
       "    <tr style=\"text-align: right;\">\n",
       "      <th></th>\n",
       "      <th>Hosts</th>\n",
       "      <th>Guests</th>\n",
       "      <th>1PHosts</th>\n",
       "      <th>2PHosts</th>\n",
       "      <th>3PHosts</th>\n",
       "      <th>OTHosts</th>\n",
       "      <th>SSHosts</th>\n",
       "      <th>1PGuests</th>\n",
       "      <th>2PGuests</th>\n",
       "      <th>3PGuests</th>\n",
       "      <th>OTGuests</th>\n",
       "      <th>SSGuests</th>\n",
       "    </tr>\n",
       "  </thead>\n",
       "  <tbody>\n",
       "    <tr>\n",
       "      <th>192</th>\n",
       "      <td>Ванкувер</td>\n",
       "      <td>Колорадо</td>\n",
       "      <td>1</td>\n",
       "      <td>3</td>\n",
       "      <td>2</td>\n",
       "      <td>1</td>\n",
       "      <td>0</td>\n",
       "      <td>0</td>\n",
       "      <td>4</td>\n",
       "      <td>2</td>\n",
       "      <td>0</td>\n",
       "      <td>0</td>\n",
       "    </tr>\n",
       "    <tr>\n",
       "      <th>265</th>\n",
       "      <td>Нью-Джерси</td>\n",
       "      <td>Питтсбург</td>\n",
       "      <td>1</td>\n",
       "      <td>1</td>\n",
       "      <td>2</td>\n",
       "      <td>0</td>\n",
       "      <td>0</td>\n",
       "      <td>1</td>\n",
       "      <td>0</td>\n",
       "      <td>1</td>\n",
       "      <td>0</td>\n",
       "      <td>0</td>\n",
       "    </tr>\n",
       "    <tr>\n",
       "      <th>101</th>\n",
       "      <td>Филадельфия</td>\n",
       "      <td>Нью-Джерси</td>\n",
       "      <td>1</td>\n",
       "      <td>1</td>\n",
       "      <td>3</td>\n",
       "      <td>0</td>\n",
       "      <td>0</td>\n",
       "      <td>1</td>\n",
       "      <td>0</td>\n",
       "      <td>1</td>\n",
       "      <td>0</td>\n",
       "      <td>0</td>\n",
       "    </tr>\n",
       "    <tr>\n",
       "      <th>625</th>\n",
       "      <td>Айлендерс</td>\n",
       "      <td>Чикаго</td>\n",
       "      <td>1</td>\n",
       "      <td>1</td>\n",
       "      <td>0</td>\n",
       "      <td>1</td>\n",
       "      <td>0</td>\n",
       "      <td>1</td>\n",
       "      <td>0</td>\n",
       "      <td>1</td>\n",
       "      <td>0</td>\n",
       "      <td>0</td>\n",
       "    </tr>\n",
       "    <tr>\n",
       "      <th>523</th>\n",
       "      <td>Аризона</td>\n",
       "      <td>Айлендерс</td>\n",
       "      <td>1</td>\n",
       "      <td>0</td>\n",
       "      <td>0</td>\n",
       "      <td>0</td>\n",
       "      <td>0</td>\n",
       "      <td>1</td>\n",
       "      <td>2</td>\n",
       "      <td>0</td>\n",
       "      <td>0</td>\n",
       "      <td>0</td>\n",
       "    </tr>\n",
       "  </tbody>\n",
       "</table>\n",
       "</div>"
      ],
      "text/plain": [
       "           Hosts      Guests  1PHosts  2PHosts  3PHosts  OTHosts  SSHosts  \\\n",
       "192     Ванкувер    Колорадо        1        3        2        1        0   \n",
       "265   Нью-Джерси   Питтсбург        1        1        2        0        0   \n",
       "101  Филадельфия  Нью-Джерси        1        1        3        0        0   \n",
       "625    Айлендерс      Чикаго        1        1        0        1        0   \n",
       "523      Аризона   Айлендерс        1        0        0        0        0   \n",
       "\n",
       "     1PGuests  2PGuests  3PGuests  OTGuests  SSGuests  \n",
       "192         0         4         2         0         0  \n",
       "265         1         0         1         0         0  \n",
       "101         1         0         1         0         0  \n",
       "625         1         0         1         0         0  \n",
       "523         1         2         0         0         0  "
      ]
     },
     "execution_count": 45,
     "metadata": {},
     "output_type": "execute_result"
    }
   ],
   "source": [
    "test_set.head()"
   ]
  },
  {
   "cell_type": "code",
   "execution_count": 47,
   "metadata": {},
   "outputs": [],
   "source": [
    "hockey = train_set.copy()"
   ]
  },
  {
   "cell_type": "code",
   "execution_count": 51,
   "metadata": {},
   "outputs": [],
   "source": [
    "corr_matrix = hockey[[\"1PHosts\",\"2PHosts\",\"3PHosts\",\"OTHosts\",\"SSHosts\"]].where(hockey[\"Hosts\"] == \"Лос-Анджелес\").corr()"
   ]
  },
  {
   "cell_type": "code",
   "execution_count": 54,
   "metadata": {},
   "outputs": [
    {
     "data": {
      "text/html": [
       "<div>\n",
       "<style scoped>\n",
       "    .dataframe tbody tr th:only-of-type {\n",
       "        vertical-align: middle;\n",
       "    }\n",
       "\n",
       "    .dataframe tbody tr th {\n",
       "        vertical-align: top;\n",
       "    }\n",
       "\n",
       "    .dataframe thead th {\n",
       "        text-align: right;\n",
       "    }\n",
       "</style>\n",
       "<table border=\"1\" class=\"dataframe\">\n",
       "  <thead>\n",
       "    <tr style=\"text-align: right;\">\n",
       "      <th></th>\n",
       "      <th>Hosts</th>\n",
       "      <th>Guests</th>\n",
       "      <th>1PHosts</th>\n",
       "      <th>2PHosts</th>\n",
       "      <th>3PHosts</th>\n",
       "      <th>OTHosts</th>\n",
       "      <th>SSHosts</th>\n",
       "      <th>1PGuests</th>\n",
       "      <th>2PGuests</th>\n",
       "      <th>3PGuests</th>\n",
       "      <th>OTGuests</th>\n",
       "      <th>SSGuests</th>\n",
       "    </tr>\n",
       "  </thead>\n",
       "  <tbody>\n",
       "    <tr>\n",
       "      <th>0</th>\n",
       "      <td>Торонто</td>\n",
       "      <td>Монреаль</td>\n",
       "      <td>1</td>\n",
       "      <td>1</td>\n",
       "      <td>0</td>\n",
       "      <td>1</td>\n",
       "      <td>0</td>\n",
       "      <td>1</td>\n",
       "      <td>1</td>\n",
       "      <td>0</td>\n",
       "      <td>0</td>\n",
       "      <td>0</td>\n",
       "    </tr>\n",
       "    <tr>\n",
       "      <th>1</th>\n",
       "      <td>Вашингтон</td>\n",
       "      <td>Бостон</td>\n",
       "      <td>2</td>\n",
       "      <td>4</td>\n",
       "      <td>1</td>\n",
       "      <td>0</td>\n",
       "      <td>0</td>\n",
       "      <td>0</td>\n",
       "      <td>0</td>\n",
       "      <td>0</td>\n",
       "      <td>0</td>\n",
       "      <td>0</td>\n",
       "    </tr>\n",
       "    <tr>\n",
       "      <th>2</th>\n",
       "      <td>Ванкувер</td>\n",
       "      <td>Калгари</td>\n",
       "      <td>1</td>\n",
       "      <td>0</td>\n",
       "      <td>4</td>\n",
       "      <td>0</td>\n",
       "      <td>0</td>\n",
       "      <td>0</td>\n",
       "      <td>0</td>\n",
       "      <td>2</td>\n",
       "      <td>0</td>\n",
       "      <td>0</td>\n",
       "    </tr>\n",
       "    <tr>\n",
       "      <th>3</th>\n",
       "      <td>Сан-Хосе</td>\n",
       "      <td>Анахайм</td>\n",
       "      <td>1</td>\n",
       "      <td>1</td>\n",
       "      <td>0</td>\n",
       "      <td>0</td>\n",
       "      <td>0</td>\n",
       "      <td>1</td>\n",
       "      <td>1</td>\n",
       "      <td>3</td>\n",
       "      <td>0</td>\n",
       "      <td>0</td>\n",
       "    </tr>\n",
       "    <tr>\n",
       "      <th>4</th>\n",
       "      <td>Баффало</td>\n",
       "      <td>Бостон</td>\n",
       "      <td>0</td>\n",
       "      <td>0</td>\n",
       "      <td>0</td>\n",
       "      <td>0</td>\n",
       "      <td>0</td>\n",
       "      <td>2</td>\n",
       "      <td>1</td>\n",
       "      <td>1</td>\n",
       "      <td>0</td>\n",
       "      <td>0</td>\n",
       "    </tr>\n",
       "  </tbody>\n",
       "</table>\n",
       "</div>"
      ],
      "text/plain": [
       "       Hosts    Guests  1PHosts  2PHosts  3PHosts  OTHosts  SSHosts  1PGuests  \\\n",
       "0    Торонто  Монреаль        1        1        0        1        0         1   \n",
       "1  Вашингтон    Бостон        2        4        1        0        0         0   \n",
       "2   Ванкувер   Калгари        1        0        4        0        0         0   \n",
       "3   Сан-Хосе   Анахайм        1        1        0        0        0         1   \n",
       "4    Баффало    Бостон        0        0        0        0        0         2   \n",
       "\n",
       "   2PGuests  3PGuests  OTGuests  SSGuests  \n",
       "0         1         0         0         0  \n",
       "1         0         0         0         0  \n",
       "2         0         2         0         0  \n",
       "3         1         3         0         0  \n",
       "4         1         1         0         0  "
      ]
     },
     "execution_count": 54,
     "metadata": {},
     "output_type": "execute_result"
    }
   ],
   "source": [
    "hockey = load_hockey_data()\n",
    "hockey.head()"
   ]
  },
  {
   "cell_type": "code",
   "execution_count": 8,
   "metadata": {},
   "outputs": [],
   "source": [
    "from sklearn.model_selection import StratifiedShuffleSplit\n",
    "\n",
    "split = StratifiedShuffleSplit(n_splits=1, test_size=0.2, random_state=42)\n",
    "for train_index, test_index in split.split(hockey, hockey[\"Hosts\"]):\n",
    "    strat_train_set = hockey.loc[train_index]\n",
    "    strat_test_set = hockey.loc[test_index]"
   ]
  },
  {
   "cell_type": "code",
   "execution_count": 9,
   "metadata": {},
   "outputs": [],
   "source": [
    "hockey = strat_train_set.copy()"
   ]
  },
  {
   "cell_type": "code",
   "execution_count": 10,
   "metadata": {},
   "outputs": [
    {
     "data": {
      "text/plain": [
       "array([[<matplotlib.axes._subplots.AxesSubplot object at 0x0000000014DAD710>,\n",
       "        <matplotlib.axes._subplots.AxesSubplot object at 0x0000000014DD4AC8>],\n",
       "       [<matplotlib.axes._subplots.AxesSubplot object at 0x0000000014E06080>,\n",
       "        <matplotlib.axes._subplots.AxesSubplot object at 0x0000000014E2F5F8>]],\n",
       "      dtype=object)"
      ]
     },
     "execution_count": 10,
     "metadata": {},
     "output_type": "execute_result"
    },
    {
     "data": {
      "image/png": "[encoded data removed]",
      "text/plain": [
       "<Figure size 720x360 with 4 Axes>"
      ]
     },
     "metadata": {
      "needs_background": "light"
     },
     "output_type": "display_data"
    },
    {
     "data": {
      "image/png": "[encoded data removed]",
      "text/plain": [
       "<Figure size 720x360 with 4 Axes>"
      ]
     },
     "metadata": {
      "needs_background": "light"
     },
     "output_type": "display_data"
    }
   ],
   "source": [
    "hockey[[\"1PHosts\",\"2PHosts\",\"3PHosts\"]].where(hockey[\"Hosts\"] == \"Лос-Анджелес\").hist(figsize=(10,5))\n",
    "hockey[[\"1PGuests\",\"2PGuests\",\"3PGuests\"]].where(hockey[\"Guests\"] == \"Лос-Анджелес\").hist(figsize=(10,5))"
   ]
  },
  {
   "cell_type": "code",
   "execution_count": 11,
   "metadata": {},
   "outputs": [
    {
     "data": {
      "text/plain": [
       "1.0    10\n",
       "0.0     7\n",
       "2.0     1\n",
       "Name: 1PHosts, dtype: int64"
      ]
     },
     "execution_count": 11,
     "metadata": {},
     "output_type": "execute_result"
    }
   ],
   "source": [
    "hockey[\"1PHosts\"].where(hockey[\"Hosts\"] == \"Лос-Анджелес\").value_counts()"
   ]
  },
  {
   "cell_type": "code",
   "execution_count": 12,
   "metadata": {},
   "outputs": [
    {
     "data": {
      "text/plain": [
       "0.0    9\n",
       "2.0    6\n",
       "1.0    3\n",
       "Name: 2PHosts, dtype: int64"
      ]
     },
     "execution_count": 12,
     "metadata": {},
     "output_type": "execute_result"
    }
   ],
   "source": [
    "hockey[\"2PHosts\"].where(hockey[\"Hosts\"] == \"Лос-Анджелес\").value_counts()"
   ]
  },
  {
   "cell_type": "code",
   "execution_count": 13,
   "metadata": {},
   "outputs": [
    {
     "data": {
      "text/plain": [
       "1.0    10\n",
       "0.0     7\n",
       "2.0     1\n",
       "Name: 1PHosts, dtype: int64"
      ]
     },
     "execution_count": 13,
     "metadata": {},
     "output_type": "execute_result"
    }
   ],
   "source": [
    "hockey[\"1PHosts\"].where(hockey[\"Hosts\"] == \"Лос-Анджелес\").value_counts()"
   ]
  },
  {
   "cell_type": "code",
   "execution_count": 14,
   "metadata": {},
   "outputs": [],
   "source": [
    "corr_matrix = hockey[[\"1PHosts\",\"2PHosts\",\"3PHosts\",\"OTHosts\",\"SSHosts\"]].where(hockey[\"Hosts\"] == \"Лос-Анджелес\").corr()"
   ]
  },
  {
   "cell_type": "code",
   "execution_count": 15,
   "metadata": {},
   "outputs": [
    {
     "data": {
      "text/plain": [
       "1PHosts    1.000000e+00\n",
       "2PHosts   -2.975710e-18\n",
       "3PHosts   -1.512939e-01\n",
       "OTHosts             NaN\n",
       "SSHosts             NaN\n",
       "Name: 1PHosts, dtype: float64"
      ]
     },
     "execution_count": 15,
     "metadata": {},
     "output_type": "execute_result"
    }
   ],
   "source": [
    "corr_matrix[\"1PHosts\"].sort_values(ascending=False)"
   ]
  },
  {
   "cell_type": "code",
   "execution_count": 81,
   "metadata": {},
   "outputs": [
    {
     "name": "stderr",
     "output_type": "stream",
     "text": [
      "c:\\users\\katirkin\\appdata\\local\\programs\\python\\python36\\lib\\site-packages\\pandas\\plotting\\_misc.py:108: UserWarning: Attempting to set identical left==right results\n",
      "in singular transformations; automatically expanding.\n",
      "left=0.0, right=0.0\n",
      "  ax.set_xlim(boundaries_list[j])\n",
      "c:\\users\\katirkin\\appdata\\local\\programs\\python\\python36\\lib\\site-packages\\pandas\\plotting\\_misc.py:109: UserWarning: Attempting to set identical bottom==top results\n",
      "in singular transformations; automatically expanding.\n",
      "bottom=0.0, top=0.0\n",
      "  ax.set_ylim(boundaries_list[i])\n",
      "c:\\users\\katirkin\\appdata\\local\\programs\\python\\python36\\lib\\site-packages\\pandas\\plotting\\_misc.py:100: UserWarning: Attempting to set identical left==right results\n",
      "in singular transformations; automatically expanding.\n",
      "left=0.0, right=0.0\n",
      "  ax.set_xlim(boundaries_list[i])\n"
     ]
    },
    {
     "data": {
      "text/plain": [
       "array([[<matplotlib.axes._subplots.AxesSubplot object at 0x000000001F11FEF0>,\n",
       "        <matplotlib.axes._subplots.AxesSubplot object at 0x000000001FA61048>,\n",
       "        <matplotlib.axes._subplots.AxesSubplot object at 0x000000001FAEA3C8>,\n",
       "        <matplotlib.axes._subplots.AxesSubplot object at 0x000000001FBB2630>,\n",
       "        <matplotlib.axes._subplots.AxesSubplot object at 0x000000001FBB6898>,\n",
       "        <matplotlib.axes._subplots.AxesSubplot object at 0x000000001F7D8B00>],\n",
       "       [<matplotlib.axes._subplots.AxesSubplot object at 0x000000001F7F8D68>,\n",
       "        <matplotlib.axes._subplots.AxesSubplot object at 0x000000001F81AFD0>,\n",
       "        <matplotlib.axes._subplots.AxesSubplot object at 0x000000001F822080>,\n",
       "        <matplotlib.axes._subplots.AxesSubplot object at 0x000000001F864518>,\n",
       "        <matplotlib.axes._subplots.AxesSubplot object at 0x000000001F886A90>,\n",
       "        <matplotlib.axes._subplots.AxesSubplot object at 0x000000001F8B3048>],\n",
       "       [<matplotlib.axes._subplots.AxesSubplot object at 0x000000001F8DB5C0>,\n",
       "        <matplotlib.axes._subplots.AxesSubplot object at 0x000000001F901B38>,\n",
       "        <matplotlib.axes._subplots.AxesSubplot object at 0x000000001F9320F0>,\n",
       "        <matplotlib.axes._subplots.AxesSubplot object at 0x000000001F95A668>,\n",
       "        <matplotlib.axes._subplots.AxesSubplot object at 0x000000001F982BE0>,\n",
       "        <matplotlib.axes._subplots.AxesSubplot object at 0x000000001FD44198>],\n",
       "       [<matplotlib.axes._subplots.AxesSubplot object at 0x000000001FD6B710>,\n",
       "        <matplotlib.axes._subplots.AxesSubplot object at 0x000000001FD94C88>,\n",
       "        <matplotlib.axes._subplots.AxesSubplot object at 0x000000001FDC4240>,\n",
       "        <matplotlib.axes._subplots.AxesSubplot object at 0x00000000201FB7B8>,\n",
       "        <matplotlib.axes._subplots.AxesSubplot object at 0x0000000020223D30>,\n",
       "        <matplotlib.axes._subplots.AxesSubplot object at 0x00000000202562E8>],\n",
       "       [<matplotlib.axes._subplots.AxesSubplot object at 0x000000002027D860>,\n",
       "        <matplotlib.axes._subplots.AxesSubplot object at 0x00000000202A5DD8>,\n",
       "        <matplotlib.axes._subplots.AxesSubplot object at 0x00000000202D6390>,\n",
       "        <matplotlib.axes._subplots.AxesSubplot object at 0x00000000202FE908>,\n",
       "        <matplotlib.axes._subplots.AxesSubplot object at 0x0000000020325E80>,\n",
       "        <matplotlib.axes._subplots.AxesSubplot object at 0x0000000020356438>],\n",
       "       [<matplotlib.axes._subplots.AxesSubplot object at 0x000000002058E9B0>,\n",
       "        <matplotlib.axes._subplots.AxesSubplot object at 0x00000000205B6F28>,\n",
       "        <matplotlib.axes._subplots.AxesSubplot object at 0x00000000205E64E0>,\n",
       "        <matplotlib.axes._subplots.AxesSubplot object at 0x000000002060EA58>,\n",
       "        <matplotlib.axes._subplots.AxesSubplot object at 0x0000000020637FD0>,\n",
       "        <matplotlib.axes._subplots.AxesSubplot object at 0x0000000020667588>]],\n",
       "      dtype=object)"
      ]
     },
     "execution_count": 81,
     "metadata": {},
     "output_type": "execute_result"
    },
    {
     "data": {
      "image/png": "[encoded data removed]",
      "text/plain": [
       "<Figure size 864x576 with 36 Axes>"
      ]
     },
     "metadata": {
      "needs_background": "light"
     },
     "output_type": "display_data"
    }
   ],
   "source": [
    "from pandas.plotting import scatter_matrix\n",
    "\n",
    "attributes = [\"1PHosts\",\"2PHosts\",\"3PHosts\",\"OTHosts\",\"SSHosts\",\"CountHosts\"]\n",
    "scatter_matrix(hockey[[\"1PHosts\",\"2PHosts\",\"3PHosts\",\"OTHosts\",\"SSHosts\",\"CountHosts\"]].where(hockey[\"Hosts\"] == \"Лос-Анджелес\"), figsize=(12, 8))"
   ]
  },
  {
   "cell_type": "code",
   "execution_count": 16,
   "metadata": {},
   "outputs": [],
   "source": [
    "corr_matrix = hockey[[\"1PHosts\",\"2PHosts\",\"3PHosts\",\"OTHosts\",\"SSHosts\",\"CountHosts\"]].corr()"
   ]
  },
  {
   "cell_type": "code",
   "execution_count": 17,
   "metadata": {},
   "outputs": [
    {
     "data": {
      "text/plain": [
       "CountHosts    1.000000\n",
       "3PHosts       0.613941\n",
       "2PHosts       0.565980\n",
       "1PHosts       0.522487\n",
       "OTHosts       0.077646\n",
       "SSHosts       0.020032\n",
       "Name: CountHosts, dtype: float64"
      ]
     },
     "execution_count": 17,
     "metadata": {},
     "output_type": "execute_result"
    }
   ],
   "source": [
    "corr_matrix[\"CountHosts\"].sort_values(ascending=False)"
   ]
  },
  {
   "cell_type": "code",
   "execution_count": 18,
   "metadata": {},
   "outputs": [],
   "source": [
    "corr_matrix = hockey[[\"1PHosts\",\"2PHosts\",\"3PHosts\"]].corr()"
   ]
  },
  {
   "cell_type": "code",
   "execution_count": 19,
   "metadata": {},
   "outputs": [
    {
     "data": {
      "text/plain": [
       "3PHosts    1.000000\n",
       "2PHosts    0.014695\n",
       "1PHosts    0.005746\n",
       "Name: 3PHosts, dtype: float64"
      ]
     },
     "execution_count": 19,
     "metadata": {},
     "output_type": "execute_result"
    }
   ],
   "source": [
    "corr_matrix[\"3PHosts\"].sort_values(ascending=False)"
   ]
  },
  {
   "cell_type": "code",
   "execution_count": 20,
   "metadata": {},
   "outputs": [
    {
     "data": {
      "text/plain": [
       "Сент-Луис       19\n",
       "Детройт         19\n",
       "Оттава          19\n",
       "Лос-Анджелес    18\n",
       "Чикаго          18\n",
       "Аризона         18\n",
       "Каролина        18\n",
       "Анахайм         18\n",
       "Сан-Хосе        18\n",
       "Питтсбург       18\n",
       "Виннипег        18\n",
       "Тампа-Бэй       17\n",
       "Коламбус        17\n",
       "Нэшвилл         17\n",
       "Даллас          17\n",
       "Монреаль        17\n",
       "Торонто         17\n",
       "Баффало         17\n",
       "Рейнджерс       17\n",
       "Миннесота       16\n",
       "Калгари         16\n",
       "Бостон          16\n",
       "Колорадо        16\n",
       "Вегас           16\n",
       "Вашингтон       16\n",
       "Эдмонтон        16\n",
       "Филадельфия     16\n",
       "Флорида         15\n",
       "Ванкувер        15\n",
       "Нью-Джерси      15\n",
       "Айлендерс       14\n",
       "Name: Hosts, dtype: int64"
      ]
     },
     "execution_count": 20,
     "metadata": {},
     "output_type": "execute_result"
    }
   ],
   "source": [
    "hockey[\"Hosts\"].value_counts()"
   ]
  },
  {
   "cell_type": "code",
   "execution_count": 21,
   "metadata": {},
   "outputs": [
    {
     "data": {
      "text/plain": [
       "Ванкувер        22\n",
       "Колорадо        21\n",
       "Даллас          20\n",
       "Чикаго          20\n",
       "Вегас           20\n",
       "Калгари         20\n",
       "Бостон          19\n",
       "Анахайм         19\n",
       "Филадельфия     19\n",
       "Питтсбург       19\n",
       "Нэшвилл         18\n",
       "Аризона         18\n",
       "Айлендерс       18\n",
       "Флорида         18\n",
       "Детройт         18\n",
       "Монреаль        18\n",
       "Сан-Хосе        17\n",
       "Эдмонтон        17\n",
       "Баффало         17\n",
       "Рейнджерс       16\n",
       "Миннесота       16\n",
       "Сент-Луис       15\n",
       "Коламбус        15\n",
       "Вашингтон       15\n",
       "Лос-Анджелес    14\n",
       "Нью-Джерси      14\n",
       "Торонто         13\n",
       "Каролина        13\n",
       "Оттава          13\n",
       "Виннипег        12\n",
       "Тампа-Бэй       10\n",
       "Name: Guests, dtype: int64"
      ]
     },
     "execution_count": 21,
     "metadata": {},
     "output_type": "execute_result"
    }
   ],
   "source": [
    "hockey[\"Guests\"].value_counts()"
   ]
  },
  {
   "cell_type": "code",
   "execution_count": 27,
   "metadata": {},
   "outputs": [],
   "source": [
    "hockey = pd.get_dummies(hockey)"
   ]
  },
  {
   "cell_type": "code",
   "execution_count": 28,
   "metadata": {},
   "outputs": [
    {
     "data": {
      "text/html": [
       "<div>\n",
       "<style scoped>\n",
       "    .dataframe tbody tr th:only-of-type {\n",
       "        vertical-align: middle;\n",
       "    }\n",
       "\n",
       "    .dataframe tbody tr th {\n",
       "        vertical-align: top;\n",
       "    }\n",
       "\n",
       "    .dataframe thead th {\n",
       "        text-align: right;\n",
       "    }\n",
       "</style>\n",
       "<table border=\"1\" class=\"dataframe\">\n",
       "  <thead>\n",
       "    <tr style=\"text-align: right;\">\n",
       "      <th></th>\n",
       "      <th>1PHosts</th>\n",
       "      <th>2PHosts</th>\n",
       "      <th>3PHosts</th>\n",
       "      <th>OTHosts</th>\n",
       "      <th>SSHosts</th>\n",
       "      <th>1PGuests</th>\n",
       "      <th>2PGuests</th>\n",
       "      <th>3PGuests</th>\n",
       "      <th>OTGuests</th>\n",
       "      <th>SSGuests</th>\n",
       "      <th>...</th>\n",
       "      <th>Guests_Питтсбург</th>\n",
       "      <th>Guests_Рейнджерс</th>\n",
       "      <th>Guests_Сан-Хосе</th>\n",
       "      <th>Guests_Сент-Луис</th>\n",
       "      <th>Guests_Тампа-Бэй</th>\n",
       "      <th>Guests_Торонто</th>\n",
       "      <th>Guests_Филадельфия</th>\n",
       "      <th>Guests_Флорида</th>\n",
       "      <th>Guests_Чикаго</th>\n",
       "      <th>Guests_Эдмонтон</th>\n",
       "    </tr>\n",
       "  </thead>\n",
       "  <tbody>\n",
       "    <tr>\n",
       "      <th>635</th>\n",
       "      <td>1</td>\n",
       "      <td>1</td>\n",
       "      <td>1</td>\n",
       "      <td>0</td>\n",
       "      <td>0</td>\n",
       "      <td>0</td>\n",
       "      <td>3</td>\n",
       "      <td>1</td>\n",
       "      <td>0</td>\n",
       "      <td>0</td>\n",
       "      <td>...</td>\n",
       "      <td>0</td>\n",
       "      <td>0</td>\n",
       "      <td>0</td>\n",
       "      <td>0</td>\n",
       "      <td>0</td>\n",
       "      <td>0</td>\n",
       "      <td>0</td>\n",
       "      <td>0</td>\n",
       "      <td>0</td>\n",
       "      <td>0</td>\n",
       "    </tr>\n",
       "    <tr>\n",
       "      <th>539</th>\n",
       "      <td>0</td>\n",
       "      <td>1</td>\n",
       "      <td>3</td>\n",
       "      <td>0</td>\n",
       "      <td>0</td>\n",
       "      <td>2</td>\n",
       "      <td>0</td>\n",
       "      <td>0</td>\n",
       "      <td>0</td>\n",
       "      <td>0</td>\n",
       "      <td>...</td>\n",
       "      <td>0</td>\n",
       "      <td>0</td>\n",
       "      <td>0</td>\n",
       "      <td>0</td>\n",
       "      <td>0</td>\n",
       "      <td>0</td>\n",
       "      <td>0</td>\n",
       "      <td>0</td>\n",
       "      <td>0</td>\n",
       "      <td>0</td>\n",
       "    </tr>\n",
       "    <tr>\n",
       "      <th>514</th>\n",
       "      <td>0</td>\n",
       "      <td>0</td>\n",
       "      <td>0</td>\n",
       "      <td>0</td>\n",
       "      <td>0</td>\n",
       "      <td>1</td>\n",
       "      <td>1</td>\n",
       "      <td>2</td>\n",
       "      <td>0</td>\n",
       "      <td>0</td>\n",
       "      <td>...</td>\n",
       "      <td>0</td>\n",
       "      <td>0</td>\n",
       "      <td>0</td>\n",
       "      <td>0</td>\n",
       "      <td>0</td>\n",
       "      <td>0</td>\n",
       "      <td>0</td>\n",
       "      <td>0</td>\n",
       "      <td>0</td>\n",
       "      <td>0</td>\n",
       "    </tr>\n",
       "    <tr>\n",
       "      <th>37</th>\n",
       "      <td>2</td>\n",
       "      <td>0</td>\n",
       "      <td>3</td>\n",
       "      <td>0</td>\n",
       "      <td>0</td>\n",
       "      <td>0</td>\n",
       "      <td>2</td>\n",
       "      <td>0</td>\n",
       "      <td>0</td>\n",
       "      <td>0</td>\n",
       "      <td>...</td>\n",
       "      <td>0</td>\n",
       "      <td>0</td>\n",
       "      <td>0</td>\n",
       "      <td>0</td>\n",
       "      <td>0</td>\n",
       "      <td>0</td>\n",
       "      <td>0</td>\n",
       "      <td>0</td>\n",
       "      <td>0</td>\n",
       "      <td>0</td>\n",
       "    </tr>\n",
       "    <tr>\n",
       "      <th>40</th>\n",
       "      <td>1</td>\n",
       "      <td>2</td>\n",
       "      <td>1</td>\n",
       "      <td>0</td>\n",
       "      <td>0</td>\n",
       "      <td>2</td>\n",
       "      <td>3</td>\n",
       "      <td>2</td>\n",
       "      <td>0</td>\n",
       "      <td>0</td>\n",
       "      <td>...</td>\n",
       "      <td>0</td>\n",
       "      <td>0</td>\n",
       "      <td>0</td>\n",
       "      <td>0</td>\n",
       "      <td>0</td>\n",
       "      <td>1</td>\n",
       "      <td>0</td>\n",
       "      <td>0</td>\n",
       "      <td>0</td>\n",
       "      <td>0</td>\n",
       "    </tr>\n",
       "  </tbody>\n",
       "</table>\n",
       "<p>5 rows × 74 columns</p>\n",
       "</div>"
      ],
      "text/plain": [
       "     1PHosts  2PHosts  3PHosts  OTHosts  SSHosts  1PGuests  2PGuests  \\\n",
       "635        1        1        1        0        0         0         3   \n",
       "539        0        1        3        0        0         2         0   \n",
       "514        0        0        0        0        0         1         1   \n",
       "37         2        0        3        0        0         0         2   \n",
       "40         1        2        1        0        0         2         3   \n",
       "\n",
       "     3PGuests  OTGuests  SSGuests       ...         Guests_Питтсбург  \\\n",
       "635         1         0         0       ...                        0   \n",
       "539         0         0         0       ...                        0   \n",
       "514         2         0         0       ...                        0   \n",
       "37          0         0         0       ...                        0   \n",
       "40          2         0         0       ...                        0   \n",
       "\n",
       "     Guests_Рейнджерс  Guests_Сан-Хосе  Guests_Сент-Луис  Guests_Тампа-Бэй  \\\n",
       "635                 0                0                 0                 0   \n",
       "539                 0                0                 0                 0   \n",
       "514                 0                0                 0                 0   \n",
       "37                  0                0                 0                 0   \n",
       "40                  0                0                 0                 0   \n",
       "\n",
       "     Guests_Торонто  Guests_Филадельфия  Guests_Флорида  Guests_Чикаго  \\\n",
       "635               0                   0               0              0   \n",
       "539               0                   0               0              0   \n",
       "514               0                   0               0              0   \n",
       "37                0                   0               0              0   \n",
       "40                1                   0               0              0   \n",
       "\n",
       "     Guests_Эдмонтон  \n",
       "635                0  \n",
       "539                0  \n",
       "514                0  \n",
       "37                 0  \n",
       "40                 0  \n",
       "\n",
       "[5 rows x 74 columns]"
      ]
     },
     "execution_count": 28,
     "metadata": {},
     "output_type": "execute_result"
    }
   ],
   "source": [
    "hockey.head()"
   ]
  },
  {
   "cell_type": "code",
   "execution_count": 36,
   "metadata": {},
   "outputs": [
    {
     "data": {
      "text/html": [
       "<div>\n",
       "<style scoped>\n",
       "    .dataframe tbody tr th:only-of-type {\n",
       "        vertical-align: middle;\n",
       "    }\n",
       "\n",
       "    .dataframe tbody tr th {\n",
       "        vertical-align: top;\n",
       "    }\n",
       "\n",
       "    .dataframe thead th {\n",
       "        text-align: right;\n",
       "    }\n",
       "</style>\n",
       "<table border=\"1\" class=\"dataframe\">\n",
       "  <thead>\n",
       "    <tr style=\"text-align: right;\">\n",
       "      <th></th>\n",
       "      <th>Hosts</th>\n",
       "      <th>Guests</th>\n",
       "      <th>1PHosts</th>\n",
       "      <th>2PHosts</th>\n",
       "      <th>3PHosts</th>\n",
       "      <th>OTHosts</th>\n",
       "      <th>SSHosts</th>\n",
       "      <th>1PGuests</th>\n",
       "      <th>2PGuests</th>\n",
       "      <th>3PGuests</th>\n",
       "      <th>OTGuests</th>\n",
       "      <th>SSGuests</th>\n",
       "      <th>CountHosts</th>\n",
       "      <th>CountGuests</th>\n",
       "    </tr>\n",
       "  </thead>\n",
       "  <tbody>\n",
       "    <tr>\n",
       "      <th>0</th>\n",
       "      <td>Торонто</td>\n",
       "      <td>Монреаль</td>\n",
       "      <td>1</td>\n",
       "      <td>1</td>\n",
       "      <td>0</td>\n",
       "      <td>1</td>\n",
       "      <td>0</td>\n",
       "      <td>1</td>\n",
       "      <td>1</td>\n",
       "      <td>0</td>\n",
       "      <td>0</td>\n",
       "      <td>0</td>\n",
       "      <td>3</td>\n",
       "      <td>2</td>\n",
       "    </tr>\n",
       "    <tr>\n",
       "      <th>1</th>\n",
       "      <td>Вашингтон</td>\n",
       "      <td>Бостон</td>\n",
       "      <td>2</td>\n",
       "      <td>4</td>\n",
       "      <td>1</td>\n",
       "      <td>0</td>\n",
       "      <td>0</td>\n",
       "      <td>0</td>\n",
       "      <td>0</td>\n",
       "      <td>0</td>\n",
       "      <td>0</td>\n",
       "      <td>0</td>\n",
       "      <td>7</td>\n",
       "      <td>0</td>\n",
       "    </tr>\n",
       "    <tr>\n",
       "      <th>2</th>\n",
       "      <td>Ванкувер</td>\n",
       "      <td>Калгари</td>\n",
       "      <td>1</td>\n",
       "      <td>0</td>\n",
       "      <td>4</td>\n",
       "      <td>0</td>\n",
       "      <td>0</td>\n",
       "      <td>0</td>\n",
       "      <td>0</td>\n",
       "      <td>2</td>\n",
       "      <td>0</td>\n",
       "      <td>0</td>\n",
       "      <td>5</td>\n",
       "      <td>2</td>\n",
       "    </tr>\n",
       "    <tr>\n",
       "      <th>3</th>\n",
       "      <td>Сан-Хосе</td>\n",
       "      <td>Анахайм</td>\n",
       "      <td>1</td>\n",
       "      <td>1</td>\n",
       "      <td>0</td>\n",
       "      <td>0</td>\n",
       "      <td>0</td>\n",
       "      <td>1</td>\n",
       "      <td>1</td>\n",
       "      <td>3</td>\n",
       "      <td>0</td>\n",
       "      <td>0</td>\n",
       "      <td>2</td>\n",
       "      <td>5</td>\n",
       "    </tr>\n",
       "    <tr>\n",
       "      <th>4</th>\n",
       "      <td>Баффало</td>\n",
       "      <td>Бостон</td>\n",
       "      <td>0</td>\n",
       "      <td>0</td>\n",
       "      <td>0</td>\n",
       "      <td>0</td>\n",
       "      <td>0</td>\n",
       "      <td>2</td>\n",
       "      <td>1</td>\n",
       "      <td>1</td>\n",
       "      <td>0</td>\n",
       "      <td>0</td>\n",
       "      <td>0</td>\n",
       "      <td>4</td>\n",
       "    </tr>\n",
       "  </tbody>\n",
       "</table>\n",
       "</div>"
      ],
      "text/plain": [
       "       Hosts    Guests  1PHosts  2PHosts  3PHosts  OTHosts  SSHosts  1PGuests  \\\n",
       "0    Торонто  Монреаль        1        1        0        1        0         1   \n",
       "1  Вашингтон    Бостон        2        4        1        0        0         0   \n",
       "2   Ванкувер   Калгари        1        0        4        0        0         0   \n",
       "3   Сан-Хосе   Анахайм        1        1        0        0        0         1   \n",
       "4    Баффало    Бостон        0        0        0        0        0         2   \n",
       "\n",
       "   2PGuests  3PGuests  OTGuests  SSGuests  CountHosts  CountGuests  \n",
       "0         1         0         0         0           3            2  \n",
       "1         0         0         0         0           7            0  \n",
       "2         0         2         0         0           5            2  \n",
       "3         1         3         0         0           2            5  \n",
       "4         1         1         0         0           0            4  "
      ]
     },
     "execution_count": 36,
     "metadata": {},
     "output_type": "execute_result"
    }
   ],
   "source": [
    "hockey = load_hockey_data()\n",
    "hockey.head()"
   ]
  },
  {
   "cell_type": "code",
   "execution_count": 30,
   "metadata": {},
   "outputs": [],
   "source": [
    "hockey = pd.get_dummies(hockey)"
   ]
  },
  {
   "cell_type": "code",
   "execution_count": 37,
   "metadata": {},
   "outputs": [
    {
     "data": {
      "text/html": [
       "<div>\n",
       "<style scoped>\n",
       "    .dataframe tbody tr th:only-of-type {\n",
       "        vertical-align: middle;\n",
       "    }\n",
       "\n",
       "    .dataframe tbody tr th {\n",
       "        vertical-align: top;\n",
       "    }\n",
       "\n",
       "    .dataframe thead th {\n",
       "        text-align: right;\n",
       "    }\n",
       "</style>\n",
       "<table border=\"1\" class=\"dataframe\">\n",
       "  <thead>\n",
       "    <tr style=\"text-align: right;\">\n",
       "      <th></th>\n",
       "      <th>Hosts</th>\n",
       "      <th>Guests</th>\n",
       "      <th>1PHosts</th>\n",
       "      <th>2PHosts</th>\n",
       "      <th>3PHosts</th>\n",
       "      <th>OTHosts</th>\n",
       "      <th>SSHosts</th>\n",
       "      <th>1PGuests</th>\n",
       "      <th>2PGuests</th>\n",
       "      <th>3PGuests</th>\n",
       "      <th>OTGuests</th>\n",
       "      <th>SSGuests</th>\n",
       "      <th>CountHosts</th>\n",
       "      <th>CountGuests</th>\n",
       "    </tr>\n",
       "  </thead>\n",
       "  <tbody>\n",
       "    <tr>\n",
       "      <th>0</th>\n",
       "      <td>Торонто</td>\n",
       "      <td>Монреаль</td>\n",
       "      <td>1</td>\n",
       "      <td>1</td>\n",
       "      <td>0</td>\n",
       "      <td>1</td>\n",
       "      <td>0</td>\n",
       "      <td>1</td>\n",
       "      <td>1</td>\n",
       "      <td>0</td>\n",
       "      <td>0</td>\n",
       "      <td>0</td>\n",
       "      <td>3</td>\n",
       "      <td>2</td>\n",
       "    </tr>\n",
       "    <tr>\n",
       "      <th>1</th>\n",
       "      <td>Вашингтон</td>\n",
       "      <td>Бостон</td>\n",
       "      <td>2</td>\n",
       "      <td>4</td>\n",
       "      <td>1</td>\n",
       "      <td>0</td>\n",
       "      <td>0</td>\n",
       "      <td>0</td>\n",
       "      <td>0</td>\n",
       "      <td>0</td>\n",
       "      <td>0</td>\n",
       "      <td>0</td>\n",
       "      <td>7</td>\n",
       "      <td>0</td>\n",
       "    </tr>\n",
       "    <tr>\n",
       "      <th>2</th>\n",
       "      <td>Ванкувер</td>\n",
       "      <td>Калгари</td>\n",
       "      <td>1</td>\n",
       "      <td>0</td>\n",
       "      <td>4</td>\n",
       "      <td>0</td>\n",
       "      <td>0</td>\n",
       "      <td>0</td>\n",
       "      <td>0</td>\n",
       "      <td>2</td>\n",
       "      <td>0</td>\n",
       "      <td>0</td>\n",
       "      <td>5</td>\n",
       "      <td>2</td>\n",
       "    </tr>\n",
       "    <tr>\n",
       "      <th>3</th>\n",
       "      <td>Сан-Хосе</td>\n",
       "      <td>Анахайм</td>\n",
       "      <td>1</td>\n",
       "      <td>1</td>\n",
       "      <td>0</td>\n",
       "      <td>0</td>\n",
       "      <td>0</td>\n",
       "      <td>1</td>\n",
       "      <td>1</td>\n",
       "      <td>3</td>\n",
       "      <td>0</td>\n",
       "      <td>0</td>\n",
       "      <td>2</td>\n",
       "      <td>5</td>\n",
       "    </tr>\n",
       "    <tr>\n",
       "      <th>4</th>\n",
       "      <td>Баффало</td>\n",
       "      <td>Бостон</td>\n",
       "      <td>0</td>\n",
       "      <td>0</td>\n",
       "      <td>0</td>\n",
       "      <td>0</td>\n",
       "      <td>0</td>\n",
       "      <td>2</td>\n",
       "      <td>1</td>\n",
       "      <td>1</td>\n",
       "      <td>0</td>\n",
       "      <td>0</td>\n",
       "      <td>0</td>\n",
       "      <td>4</td>\n",
       "    </tr>\n",
       "  </tbody>\n",
       "</table>\n",
       "</div>"
      ],
      "text/plain": [
       "       Hosts    Guests  1PHosts  2PHosts  3PHosts  OTHosts  SSHosts  1PGuests  \\\n",
       "0    Торонто  Монреаль        1        1        0        1        0         1   \n",
       "1  Вашингтон    Бостон        2        4        1        0        0         0   \n",
       "2   Ванкувер   Калгари        1        0        4        0        0         0   \n",
       "3   Сан-Хосе   Анахайм        1        1        0        0        0         1   \n",
       "4    Баффало    Бостон        0        0        0        0        0         2   \n",
       "\n",
       "   2PGuests  3PGuests  OTGuests  SSGuests  CountHosts  CountGuests  \n",
       "0         1         0         0         0           3            2  \n",
       "1         0         0         0         0           7            0  \n",
       "2         0         2         0         0           5            2  \n",
       "3         1         3         0         0           2            5  \n",
       "4         1         1         0         0           0            4  "
      ]
     },
     "execution_count": 37,
     "metadata": {},
     "output_type": "execute_result"
    }
   ],
   "source": [
    "hockey.head()"
   ]
  },
  {
   "cell_type": "code",
   "execution_count": 38,
   "metadata": {},
   "outputs": [
    {
     "name": "stdout",
     "output_type": "stream",
     "text": [
      "<class 'pandas.core.frame.DataFrame'>\n",
      "RangeIndex: 656 entries, 0 to 655\n",
      "Data columns (total 14 columns):\n",
      "Hosts          656 non-null object\n",
      "Guests         656 non-null object\n",
      "1PHosts        656 non-null int64\n",
      "2PHosts        656 non-null int64\n",
      "3PHosts        656 non-null int64\n",
      "OTHosts        656 non-null int64\n",
      "SSHosts        656 non-null int64\n",
      "1PGuests       656 non-null int64\n",
      "2PGuests       656 non-null int64\n",
      "3PGuests       656 non-null int64\n",
      "OTGuests       656 non-null int64\n",
      "SSGuests       656 non-null int64\n",
      "CountHosts     656 non-null int64\n",
      "CountGuests    656 non-null int64\n",
      "dtypes: int64(12), object(2)\n",
      "memory usage: 71.8+ KB\n"
     ]
    }
   ],
   "source": [
    "hockey.info()"
   ]
  },
  {
   "cell_type": "code",
   "execution_count": 39,
   "metadata": {},
   "outputs": [
    {
     "data": {
      "text/plain": [
       "1.0    10\n",
       "0.0     6\n",
       "2.0     5\n",
       "3.0     2\n",
       "4.0     1\n",
       "Name: 2PHosts, dtype: int64"
      ]
     },
     "execution_count": 39,
     "metadata": {},
     "output_type": "execute_result"
    }
   ],
   "source": [
    "hockey[\"2PHosts\"].where(hockey[\"Hosts\"] == \"Оттава\").value_counts()"
   ]
  },
  {
   "cell_type": "code",
   "execution_count": 40,
   "metadata": {},
   "outputs": [
    {
     "data": {
      "text/plain": [
       "1.0    9\n",
       "0.0    8\n",
       "3.0    4\n",
       "2.0    3\n",
       "Name: 1PHosts, dtype: int64"
      ]
     },
     "execution_count": 40,
     "metadata": {},
     "output_type": "execute_result"
    }
   ],
   "source": [
    "hockey[\"1PHosts\"].where(hockey[\"Hosts\"] == \"Оттава\").value_counts()"
   ]
  },
  {
   "cell_type": "code",
   "execution_count": 41,
   "metadata": {},
   "outputs": [
    {
     "data": {
      "text/plain": [
       "0.0    11\n",
       "1.0     7\n",
       "2.0     4\n",
       "3.0     2\n",
       "Name: 3PHosts, dtype: int64"
      ]
     },
     "execution_count": 41,
     "metadata": {},
     "output_type": "execute_result"
    }
   ],
   "source": [
    "hockey[\"3PHosts\"].where(hockey[\"Hosts\"] == \"Оттава\").value_counts()"
   ]
  },
  {
   "cell_type": "code",
   "execution_count": 42,
   "metadata": {},
   "outputs": [
    {
     "data": {
      "text/plain": [
       "0.0    7\n",
       "1.0    6\n",
       "2.0    6\n",
       "4.0    2\n",
       "3.0    1\n",
       "Name: 2PGuests, dtype: int64"
      ]
     },
     "execution_count": 42,
     "metadata": {},
     "output_type": "execute_result"
    }
   ],
   "source": [
    "hockey[\"2PGuests\"].where(hockey[\"Guests\"] == \"Колорадо\").value_counts()"
   ]
  },
  {
   "cell_type": "code",
   "execution_count": 43,
   "metadata": {},
   "outputs": [
    {
     "data": {
      "text/plain": [
       "0.0    9\n",
       "1.0    8\n",
       "2.0    3\n",
       "3.0    2\n",
       "Name: 1PGuests, dtype: int64"
      ]
     },
     "execution_count": 43,
     "metadata": {},
     "output_type": "execute_result"
    }
   ],
   "source": [
    "hockey[\"1PGuests\"].where(hockey[\"Guests\"] == \"Колорадо\").value_counts()"
   ]
  },
  {
   "cell_type": "code",
   "execution_count": 44,
   "metadata": {},
   "outputs": [
    {
     "data": {
      "text/plain": [
       "1.0    7\n",
       "0.0    6\n",
       "2.0    5\n",
       "3.0    4\n",
       "Name: 3PGuests, dtype: int64"
      ]
     },
     "execution_count": 44,
     "metadata": {},
     "output_type": "execute_result"
    }
   ],
   "source": [
    "hockey[\"3PGuests\"].where(hockey[\"Guests\"] == \"Колорадо\").value_counts()"
   ]
  },
  {
   "cell_type": "code",
   "execution_count": 45,
   "metadata": {},
   "outputs": [
    {
     "data": {
      "text/plain": [
       "2.0    5\n",
       "4.0    4\n",
       "3.0    4\n",
       "5.0    4\n",
       "1.0    2\n",
       "6.0    2\n",
       "7.0    1\n",
       "Name: CountGuests, dtype: int64"
      ]
     },
     "execution_count": 45,
     "metadata": {},
     "output_type": "execute_result"
    }
   ],
   "source": [
    "hockey[\"CountGuests\"].where(hockey[\"Guests\"] == \"Колорадо\").value_counts()"
   ]
  },
  {
   "cell_type": "code",
   "execution_count": 47,
   "metadata": {},
   "outputs": [
    {
     "data": {
      "text/plain": [
       "4.0    6\n",
       "3.0    6\n",
       "2.0    4\n",
       "6.0    2\n",
       "1.0    2\n",
       "5.0    2\n",
       "0.0    1\n",
       "7.0    1\n",
       "Name: CountHosts, dtype: int64"
      ]
     },
     "execution_count": 47,
     "metadata": {},
     "output_type": "execute_result"
    }
   ],
   "source": [
    "hockey[\"CountHosts\"].where(hockey[\"Hosts\"] == \"Оттава\").value_counts()"
   ]
  },
  {
   "cell_type": "code",
   "execution_count": null,
   "metadata": {},
   "outputs": [],
   "source": []
  }
 ],
 "metadata": {
  "kernelspec": {
   "display_name": "Python 3",
   "language": "python",
   "name": "python3"
  },
  "language_info": {
   "codemirror_mode": {
    "name": "ipython",
    "version": 3
   },
   "file_extension": ".py",
   "mimetype": "text/x-python",
   "name": "python",
   "nbconvert_exporter": "python",
   "pygments_lexer": "ipython3",
   "version": "3.6.4"
  }
 },
 "nbformat": 4,
 "nbformat_minor": 2
}
