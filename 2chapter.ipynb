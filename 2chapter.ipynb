{
 "cells": [
  {
   "cell_type": "code",
   "execution_count": 1,
   "metadata": {},
   "outputs": [],
   "source": [
    "import os\n",
    "HOCKEY_PATH = os.path.join(\"datasets\", \"hockey\")"
   ]
  },
  {
   "cell_type": "code",
   "execution_count": 53,
   "metadata": {},
   "outputs": [],
   "source": [
    "import pandas as pd\n",
    "\n",
    "def load_hockey_data(hockey_path=HOCKEY_PATH):\n",
    "    csv_path = os.path.join(hockey_path, \"hockey.csv\")\n",
    "    return pd.read_csv(csv_path)"
   ]
  },
  {
   "cell_type": "code",
   "execution_count": 3,
   "metadata": {},
   "outputs": [
    {
     "data": {
      "text/html": [
       "<div>\n",
       "<style scoped>\n",
       "    .dataframe tbody tr th:only-of-type {\n",
       "        vertical-align: middle;\n",
       "    }\n",
       "\n",
       "    .dataframe tbody tr th {\n",
       "        vertical-align: top;\n",
       "    }\n",
       "\n",
       "    .dataframe thead th {\n",
       "        text-align: right;\n",
       "    }\n",
       "</style>\n",
       "<table border=\"1\" class=\"dataframe\">\n",
       "  <thead>\n",
       "    <tr style=\"text-align: right;\">\n",
       "      <th></th>\n",
       "      <th>Хозяева</th>\n",
       "      <th>Гости</th>\n",
       "      <th>1PHosts</th>\n",
       "      <th>2PHosts</th>\n",
       "      <th>3PHosts</th>\n",
       "      <th>OTHosts</th>\n",
       "      <th>SSHosts</th>\n",
       "      <th>1PGuests</th>\n",
       "      <th>2PGuests</th>\n",
       "      <th>3PGuests</th>\n",
       "      <th>OTGuests</th>\n",
       "      <th>SSGuests</th>\n",
       "    </tr>\n",
       "  </thead>\n",
       "  <tbody>\n",
       "    <tr>\n",
       "      <th>0</th>\n",
       "      <td>Торонто</td>\n",
       "      <td>Монреаль</td>\n",
       "      <td>1</td>\n",
       "      <td>1</td>\n",
       "      <td>0</td>\n",
       "      <td>1</td>\n",
       "      <td>0</td>\n",
       "      <td>1</td>\n",
       "      <td>1</td>\n",
       "      <td>0</td>\n",
       "      <td>0</td>\n",
       "      <td>0</td>\n",
       "    </tr>\n",
       "    <tr>\n",
       "      <th>1</th>\n",
       "      <td>Вашингтон</td>\n",
       "      <td>Бостон</td>\n",
       "      <td>2</td>\n",
       "      <td>4</td>\n",
       "      <td>1</td>\n",
       "      <td>0</td>\n",
       "      <td>0</td>\n",
       "      <td>0</td>\n",
       "      <td>0</td>\n",
       "      <td>0</td>\n",
       "      <td>0</td>\n",
       "      <td>0</td>\n",
       "    </tr>\n",
       "    <tr>\n",
       "      <th>2</th>\n",
       "      <td>Ванкувер</td>\n",
       "      <td>Калгари</td>\n",
       "      <td>1</td>\n",
       "      <td>0</td>\n",
       "      <td>4</td>\n",
       "      <td>0</td>\n",
       "      <td>0</td>\n",
       "      <td>0</td>\n",
       "      <td>0</td>\n",
       "      <td>2</td>\n",
       "      <td>0</td>\n",
       "      <td>0</td>\n",
       "    </tr>\n",
       "    <tr>\n",
       "      <th>3</th>\n",
       "      <td>Сан-Хосе</td>\n",
       "      <td>Анахайм</td>\n",
       "      <td>1</td>\n",
       "      <td>1</td>\n",
       "      <td>0</td>\n",
       "      <td>0</td>\n",
       "      <td>0</td>\n",
       "      <td>1</td>\n",
       "      <td>1</td>\n",
       "      <td>3</td>\n",
       "      <td>0</td>\n",
       "      <td>0</td>\n",
       "    </tr>\n",
       "    <tr>\n",
       "      <th>4</th>\n",
       "      <td>Баффало</td>\n",
       "      <td>Бостон</td>\n",
       "      <td>0</td>\n",
       "      <td>0</td>\n",
       "      <td>0</td>\n",
       "      <td>0</td>\n",
       "      <td>0</td>\n",
       "      <td>2</td>\n",
       "      <td>1</td>\n",
       "      <td>1</td>\n",
       "      <td>0</td>\n",
       "      <td>0</td>\n",
       "    </tr>\n",
       "  </tbody>\n",
       "</table>\n",
       "</div>"
      ],
      "text/plain": [
       "     Хозяева     Гости  1PHosts  2PHosts  3PHosts  OTHosts  SSHosts  1PGuests  \\\n",
       "0    Торонто  Монреаль        1        1        0        1        0         1   \n",
       "1  Вашингтон    Бостон        2        4        1        0        0         0   \n",
       "2   Ванкувер   Калгари        1        0        4        0        0         0   \n",
       "3   Сан-Хосе   Анахайм        1        1        0        0        0         1   \n",
       "4    Баффало    Бостон        0        0        0        0        0         2   \n",
       "\n",
       "   2PGuests  3PGuests  OTGuests  SSGuests  \n",
       "0         1         0         0         0  \n",
       "1         0         0         0         0  \n",
       "2         0         2         0         0  \n",
       "3         1         3         0         0  \n",
       "4         1         1         0         0  "
      ]
     },
     "execution_count": 3,
     "metadata": {},
     "output_type": "execute_result"
    }
   ],
   "source": [
    "hockey = load_hockey_data()\n",
    "hockey.head()"
   ]
  },
  {
   "cell_type": "code",
   "execution_count": 4,
   "metadata": {},
   "outputs": [
    {
     "name": "stdout",
     "output_type": "stream",
     "text": [
      "<class 'pandas.core.frame.DataFrame'>\n",
      "RangeIndex: 656 entries, 0 to 655\n",
      "Data columns (total 12 columns):\n",
      "Хозяева     656 non-null object\n",
      "Гости       656 non-null object\n",
      "1PHosts     656 non-null int64\n",
      "2PHosts     656 non-null int64\n",
      "3PHosts     656 non-null int64\n",
      "OTHosts     656 non-null int64\n",
      "SSHosts     656 non-null int64\n",
      "1PGuests    656 non-null int64\n",
      "2PGuests    656 non-null int64\n",
      "3PGuests    656 non-null int64\n",
      "OTGuests    656 non-null int64\n",
      "SSGuests    656 non-null int64\n",
      "dtypes: int64(10), object(2)\n",
      "memory usage: 61.6+ KB\n"
     ]
    }
   ],
   "source": [
    "hockey.info()"
   ]
  },
  {
   "cell_type": "code",
   "execution_count": 5,
   "metadata": {},
   "outputs": [
    {
     "data": {
      "text/html": [
       "<div>\n",
       "<style scoped>\n",
       "    .dataframe tbody tr th:only-of-type {\n",
       "        vertical-align: middle;\n",
       "    }\n",
       "\n",
       "    .dataframe tbody tr th {\n",
       "        vertical-align: top;\n",
       "    }\n",
       "\n",
       "    .dataframe thead th {\n",
       "        text-align: right;\n",
       "    }\n",
       "</style>\n",
       "<table border=\"1\" class=\"dataframe\">\n",
       "  <thead>\n",
       "    <tr style=\"text-align: right;\">\n",
       "      <th></th>\n",
       "      <th>1PHosts</th>\n",
       "      <th>2PHosts</th>\n",
       "      <th>3PHosts</th>\n",
       "      <th>OTHosts</th>\n",
       "      <th>SSHosts</th>\n",
       "      <th>1PGuests</th>\n",
       "      <th>2PGuests</th>\n",
       "      <th>3PGuests</th>\n",
       "      <th>OTGuests</th>\n",
       "      <th>SSGuests</th>\n",
       "    </tr>\n",
       "  </thead>\n",
       "  <tbody>\n",
       "    <tr>\n",
       "      <th>count</th>\n",
       "      <td>656.000000</td>\n",
       "      <td>656.000000</td>\n",
       "      <td>656.000000</td>\n",
       "      <td>656.000000</td>\n",
       "      <td>656.000000</td>\n",
       "      <td>656.000000</td>\n",
       "      <td>656.000000</td>\n",
       "      <td>656.000000</td>\n",
       "      <td>656.000000</td>\n",
       "      <td>656.000000</td>\n",
       "    </tr>\n",
       "    <tr>\n",
       "      <th>mean</th>\n",
       "      <td>0.967988</td>\n",
       "      <td>1.079268</td>\n",
       "      <td>1.065549</td>\n",
       "      <td>0.070122</td>\n",
       "      <td>0.022866</td>\n",
       "      <td>0.812500</td>\n",
       "      <td>0.998476</td>\n",
       "      <td>0.948171</td>\n",
       "      <td>0.092988</td>\n",
       "      <td>0.036585</td>\n",
       "    </tr>\n",
       "    <tr>\n",
       "      <th>std</th>\n",
       "      <td>0.960540</td>\n",
       "      <td>1.017314</td>\n",
       "      <td>1.103901</td>\n",
       "      <td>0.255547</td>\n",
       "      <td>0.149590</td>\n",
       "      <td>0.863101</td>\n",
       "      <td>0.986163</td>\n",
       "      <td>0.955688</td>\n",
       "      <td>0.290637</td>\n",
       "      <td>0.187885</td>\n",
       "    </tr>\n",
       "    <tr>\n",
       "      <th>min</th>\n",
       "      <td>0.000000</td>\n",
       "      <td>0.000000</td>\n",
       "      <td>0.000000</td>\n",
       "      <td>0.000000</td>\n",
       "      <td>0.000000</td>\n",
       "      <td>0.000000</td>\n",
       "      <td>0.000000</td>\n",
       "      <td>0.000000</td>\n",
       "      <td>0.000000</td>\n",
       "      <td>0.000000</td>\n",
       "    </tr>\n",
       "    <tr>\n",
       "      <th>25%</th>\n",
       "      <td>0.000000</td>\n",
       "      <td>0.000000</td>\n",
       "      <td>0.000000</td>\n",
       "      <td>0.000000</td>\n",
       "      <td>0.000000</td>\n",
       "      <td>0.000000</td>\n",
       "      <td>0.000000</td>\n",
       "      <td>0.000000</td>\n",
       "      <td>0.000000</td>\n",
       "      <td>0.000000</td>\n",
       "    </tr>\n",
       "    <tr>\n",
       "      <th>50%</th>\n",
       "      <td>1.000000</td>\n",
       "      <td>1.000000</td>\n",
       "      <td>1.000000</td>\n",
       "      <td>0.000000</td>\n",
       "      <td>0.000000</td>\n",
       "      <td>1.000000</td>\n",
       "      <td>1.000000</td>\n",
       "      <td>1.000000</td>\n",
       "      <td>0.000000</td>\n",
       "      <td>0.000000</td>\n",
       "    </tr>\n",
       "    <tr>\n",
       "      <th>75%</th>\n",
       "      <td>1.000000</td>\n",
       "      <td>2.000000</td>\n",
       "      <td>2.000000</td>\n",
       "      <td>0.000000</td>\n",
       "      <td>0.000000</td>\n",
       "      <td>1.000000</td>\n",
       "      <td>2.000000</td>\n",
       "      <td>2.000000</td>\n",
       "      <td>0.000000</td>\n",
       "      <td>0.000000</td>\n",
       "    </tr>\n",
       "    <tr>\n",
       "      <th>max</th>\n",
       "      <td>5.000000</td>\n",
       "      <td>5.000000</td>\n",
       "      <td>5.000000</td>\n",
       "      <td>1.000000</td>\n",
       "      <td>1.000000</td>\n",
       "      <td>4.000000</td>\n",
       "      <td>5.000000</td>\n",
       "      <td>4.000000</td>\n",
       "      <td>1.000000</td>\n",
       "      <td>1.000000</td>\n",
       "    </tr>\n",
       "  </tbody>\n",
       "</table>\n",
       "</div>"
      ],
      "text/plain": [
       "          1PHosts     2PHosts     3PHosts     OTHosts     SSHosts    1PGuests  \\\n",
       "count  656.000000  656.000000  656.000000  656.000000  656.000000  656.000000   \n",
       "mean     0.967988    1.079268    1.065549    0.070122    0.022866    0.812500   \n",
       "std      0.960540    1.017314    1.103901    0.255547    0.149590    0.863101   \n",
       "min      0.000000    0.000000    0.000000    0.000000    0.000000    0.000000   \n",
       "25%      0.000000    0.000000    0.000000    0.000000    0.000000    0.000000   \n",
       "50%      1.000000    1.000000    1.000000    0.000000    0.000000    1.000000   \n",
       "75%      1.000000    2.000000    2.000000    0.000000    0.000000    1.000000   \n",
       "max      5.000000    5.000000    5.000000    1.000000    1.000000    4.000000   \n",
       "\n",
       "         2PGuests    3PGuests    OTGuests    SSGuests  \n",
       "count  656.000000  656.000000  656.000000  656.000000  \n",
       "mean     0.998476    0.948171    0.092988    0.036585  \n",
       "std      0.986163    0.955688    0.290637    0.187885  \n",
       "min      0.000000    0.000000    0.000000    0.000000  \n",
       "25%      0.000000    0.000000    0.000000    0.000000  \n",
       "50%      1.000000    1.000000    0.000000    0.000000  \n",
       "75%      2.000000    2.000000    0.000000    0.000000  \n",
       "max      5.000000    4.000000    1.000000    1.000000  "
      ]
     },
     "execution_count": 5,
     "metadata": {},
     "output_type": "execute_result"
    }
   ],
   "source": [
    "hockey.describe()"
   ]
  },
  {
   "cell_type": "code",
   "execution_count": 7,
   "metadata": {},
   "outputs": [
    {
     "data": {
      "text/plain": [
       "array([[<matplotlib.axes._subplots.AxesSubplot object at 0x00000000149DF2E8>,\n",
       "        <matplotlib.axes._subplots.AxesSubplot object at 0x0000000014A14588>,\n",
       "        <matplotlib.axes._subplots.AxesSubplot object at 0x0000000014A3BB00>],\n",
       "       [<matplotlib.axes._subplots.AxesSubplot object at 0x0000000014A6F0B8>,\n",
       "        <matplotlib.axes._subplots.AxesSubplot object at 0x0000000014A96630>,\n",
       "        <matplotlib.axes._subplots.AxesSubplot object at 0x0000000014ABEBA8>],\n",
       "       [<matplotlib.axes._subplots.AxesSubplot object at 0x0000000014AF0160>,\n",
       "        <matplotlib.axes._subplots.AxesSubplot object at 0x0000000014B17710>,\n",
       "        <matplotlib.axes._subplots.AxesSubplot object at 0x0000000014B17748>],\n",
       "       [<matplotlib.axes._subplots.AxesSubplot object at 0x0000000014B6F208>,\n",
       "        <matplotlib.axes._subplots.AxesSubplot object at 0x0000000014B96780>,\n",
       "        <matplotlib.axes._subplots.AxesSubplot object at 0x0000000014BBECF8>]],\n",
       "      dtype=object)"
      ]
     },
     "execution_count": 7,
     "metadata": {},
     "output_type": "execute_result"
    },
    {
     "data": {
      "image/png": "[encoded data removed]",
      "text/plain": [
       "<Figure size 1440x1080 with 12 Axes>"
      ]
     },
     "metadata": {
      "needs_background": "light"
     },
     "output_type": "display_data"
    }
   ],
   "source": [
    "hockey.hist(figsize=(20,15))"
   ]
  },
  {
   "cell_type": "code",
   "execution_count": 9,
   "metadata": {},
   "outputs": [],
   "source": [
    "from sklearn.model_selection import train_test_split\n",
    "\n",
    "train_set, test_set = train_test_split(hockey, test_size=0.2, random_state=42)"
   ]
  },
  {
   "cell_type": "code",
   "execution_count": 10,
   "metadata": {},
   "outputs": [
    {
     "data": {
      "text/html": [
       "<div>\n",
       "<style scoped>\n",
       "    .dataframe tbody tr th:only-of-type {\n",
       "        vertical-align: middle;\n",
       "    }\n",
       "\n",
       "    .dataframe tbody tr th {\n",
       "        vertical-align: top;\n",
       "    }\n",
       "\n",
       "    .dataframe thead th {\n",
       "        text-align: right;\n",
       "    }\n",
       "</style>\n",
       "<table border=\"1\" class=\"dataframe\">\n",
       "  <thead>\n",
       "    <tr style=\"text-align: right;\">\n",
       "      <th></th>\n",
       "      <th>Хозяева</th>\n",
       "      <th>Гости</th>\n",
       "      <th>1PHosts</th>\n",
       "      <th>2PHosts</th>\n",
       "      <th>3PHosts</th>\n",
       "      <th>OTHosts</th>\n",
       "      <th>SSHosts</th>\n",
       "      <th>1PGuests</th>\n",
       "      <th>2PGuests</th>\n",
       "      <th>3PGuests</th>\n",
       "      <th>OTGuests</th>\n",
       "      <th>SSGuests</th>\n",
       "    </tr>\n",
       "  </thead>\n",
       "  <tbody>\n",
       "    <tr>\n",
       "      <th>192</th>\n",
       "      <td>Ванкувер</td>\n",
       "      <td>Колорадо</td>\n",
       "      <td>1</td>\n",
       "      <td>3</td>\n",
       "      <td>2</td>\n",
       "      <td>1</td>\n",
       "      <td>0</td>\n",
       "      <td>0</td>\n",
       "      <td>4</td>\n",
       "      <td>2</td>\n",
       "      <td>0</td>\n",
       "      <td>0</td>\n",
       "    </tr>\n",
       "    <tr>\n",
       "      <th>265</th>\n",
       "      <td>Нью-Джерси</td>\n",
       "      <td>Питтсбург</td>\n",
       "      <td>1</td>\n",
       "      <td>1</td>\n",
       "      <td>2</td>\n",
       "      <td>0</td>\n",
       "      <td>0</td>\n",
       "      <td>1</td>\n",
       "      <td>0</td>\n",
       "      <td>1</td>\n",
       "      <td>0</td>\n",
       "      <td>0</td>\n",
       "    </tr>\n",
       "    <tr>\n",
       "      <th>101</th>\n",
       "      <td>Филадельфия</td>\n",
       "      <td>Нью-Джерси</td>\n",
       "      <td>1</td>\n",
       "      <td>1</td>\n",
       "      <td>3</td>\n",
       "      <td>0</td>\n",
       "      <td>0</td>\n",
       "      <td>1</td>\n",
       "      <td>0</td>\n",
       "      <td>1</td>\n",
       "      <td>0</td>\n",
       "      <td>0</td>\n",
       "    </tr>\n",
       "    <tr>\n",
       "      <th>625</th>\n",
       "      <td>Айлендерс</td>\n",
       "      <td>Чикаго</td>\n",
       "      <td>1</td>\n",
       "      <td>1</td>\n",
       "      <td>0</td>\n",
       "      <td>1</td>\n",
       "      <td>0</td>\n",
       "      <td>1</td>\n",
       "      <td>0</td>\n",
       "      <td>1</td>\n",
       "      <td>0</td>\n",
       "      <td>0</td>\n",
       "    </tr>\n",
       "    <tr>\n",
       "      <th>523</th>\n",
       "      <td>Аризона</td>\n",
       "      <td>Айлендерс</td>\n",
       "      <td>1</td>\n",
       "      <td>0</td>\n",
       "      <td>0</td>\n",
       "      <td>0</td>\n",
       "      <td>0</td>\n",
       "      <td>1</td>\n",
       "      <td>2</td>\n",
       "      <td>0</td>\n",
       "      <td>0</td>\n",
       "      <td>0</td>\n",
       "    </tr>\n",
       "  </tbody>\n",
       "</table>\n",
       "</div>"
      ],
      "text/plain": [
       "         Хозяева       Гости  1PHosts  2PHosts  3PHosts  OTHosts  SSHosts  \\\n",
       "192     Ванкувер    Колорадо        1        3        2        1        0   \n",
       "265   Нью-Джерси   Питтсбург        1        1        2        0        0   \n",
       "101  Филадельфия  Нью-Джерси        1        1        3        0        0   \n",
       "625    Айлендерс      Чикаго        1        1        0        1        0   \n",
       "523      Аризона   Айлендерс        1        0        0        0        0   \n",
       "\n",
       "     1PGuests  2PGuests  3PGuests  OTGuests  SSGuests  \n",
       "192         0         4         2         0         0  \n",
       "265         1         0         1         0         0  \n",
       "101         1         0         1         0         0  \n",
       "625         1         0         1         0         0  \n",
       "523         1         2         0         0         0  "
      ]
     },
     "execution_count": 10,
     "metadata": {},
     "output_type": "execute_result"
    }
   ],
   "source": [
    "test_set.head()"
   ]
  },
  {
   "cell_type": "code",
   "execution_count": 19,
   "metadata": {},
   "outputs": [
    {
     "data": {
      "text/plain": [
       "<matplotlib.axes._subplots.AxesSubplot at 0x577ca58>"
      ]
     },
     "execution_count": 19,
     "metadata": {},
     "output_type": "execute_result"
    },
    {
     "data": {
      "image/png": "[encoded data removed]",
      "text/plain": [
       "<Figure size 432x288 with 1 Axes>"
      ]
     },
     "metadata": {
      "needs_background": "light"
     },
     "output_type": "display_data"
    }
   ],
   "source": [
    "hockey[\"1PHosts\"].where(hockey[\"Хозяева\"] == \"Лос-Анджелес\").hist()\n",
    "hockey[\"1PGuests\"].where(hockey[\"Гости\"] == \"Лос-Анджелес\").hist()"
   ]
  },
  {
   "cell_type": "code",
   "execution_count": 21,
   "metadata": {},
   "outputs": [
    {
     "data": {
      "text/plain": [
       "<matplotlib.axes._subplots.AxesSubplot at 0x6f580b8>"
      ]
     },
     "execution_count": 21,
     "metadata": {},
     "output_type": "execute_result"
    },
    {
     "data": {
      "image/png": "[encoded data removed]",
      "text/plain": [
       "<Figure size 432x288 with 1 Axes>"
      ]
     },
     "metadata": {
      "needs_background": "light"
     },
     "output_type": "display_data"
    }
   ],
   "source": [
    "hockey[\"2PHosts\"].where(hockey[\"Хозяева\"] == \"Лос-Анджелес\").hist()\n",
    "hockey[\"2PGuests\"].where(hockey[\"Гости\"] == \"Лос-Анджелес\").hist()"
   ]
  },
  {
   "cell_type": "code",
   "execution_count": 36,
   "metadata": {},
   "outputs": [
    {
     "data": {
      "text/plain": [
       "array([[<matplotlib.axes._subplots.AxesSubplot object at 0x0000000019744B38>,\n",
       "        <matplotlib.axes._subplots.AxesSubplot object at 0x000000001976EEF0>],\n",
       "       [<matplotlib.axes._subplots.AxesSubplot object at 0x000000001979D438>,\n",
       "        <matplotlib.axes._subplots.AxesSubplot object at 0x00000000197C59B0>]],\n",
       "      dtype=object)"
      ]
     },
     "execution_count": 36,
     "metadata": {},
     "output_type": "execute_result"
    },
    {
     "data": {
      "image/png": "[encoded data removed]",
      "text/plain": [
       "<Figure size 720x360 with 4 Axes>"
      ]
     },
     "metadata": {
      "needs_background": "light"
     },
     "output_type": "display_data"
    },
    {
     "data": {
      "image/png": "[encoded data removed]",
      "text/plain": [
       "<Figure size 720x360 with 4 Axes>"
      ]
     },
     "metadata": {
      "needs_background": "light"
     },
     "output_type": "display_data"
    }
   ],
   "source": [
    "hockey[[\"1PHosts\",\"2PHosts\",\"3PHosts\"]].where(hockey[\"Хозяева\"] == \"Лос-Анджелес\").hist(figsize=(10,5))\n",
    "hockey[[\"1PGuests\",\"2PGuests\",\"3PGuests\"]].where(hockey[\"Гости\"] == \"Лос-Анджелес\").hist(figsize=(10,5))"
   ]
  },
  {
   "cell_type": "code",
   "execution_count": 33,
   "metadata": {},
   "outputs": [
    {
     "data": {
      "text/plain": [
       "1.0    12\n",
       "0.0     9\n",
       "3.0     1\n",
       "2.0     1\n",
       "Name: 1PHosts, dtype: int64"
      ]
     },
     "execution_count": 33,
     "metadata": {},
     "output_type": "execute_result"
    }
   ],
   "source": [
    "hockey[\"1PHosts\"].where(hockey[\"Хозяева\"] == \"Лос-Анджелес\").value_counts()"
   ]
  },
  {
   "cell_type": "code",
   "execution_count": 37,
   "metadata": {},
   "outputs": [
    {
     "data": {
      "text/plain": [
       "0.0    11\n",
       "2.0     7\n",
       "1.0     5\n",
       "Name: 2PHosts, dtype: int64"
      ]
     },
     "execution_count": 37,
     "metadata": {},
     "output_type": "execute_result"
    }
   ],
   "source": [
    "hockey[\"2PHosts\"].where(hockey[\"Хозяева\"] == \"Лос-Анджелес\").value_counts()"
   ]
  },
  {
   "cell_type": "code",
   "execution_count": 38,
   "metadata": {},
   "outputs": [
    {
     "data": {
      "text/plain": [
       "1.0    8\n",
       "0.0    8\n",
       "2.0    6\n",
       "3.0    1\n",
       "Name: 3PHosts, dtype: int64"
      ]
     },
     "execution_count": 38,
     "metadata": {},
     "output_type": "execute_result"
    }
   ],
   "source": [
    "hockey[\"3PHosts\"].where(hockey[\"Хозяева\"] == \"Лос-Анджелес\").value_counts()"
   ]
  },
  {
   "cell_type": "code",
   "execution_count": 39,
   "metadata": {},
   "outputs": [
    {
     "data": {
      "text/plain": [
       "0.0    15\n",
       "1.0     4\n",
       "2.0     2\n",
       "Name: 1PGuests, dtype: int64"
      ]
     },
     "execution_count": 39,
     "metadata": {},
     "output_type": "execute_result"
    }
   ],
   "source": [
    "hockey[\"1PGuests\"].where(hockey[\"Гости\"] == \"Лос-Анджелес\").value_counts()"
   ]
  },
  {
   "cell_type": "code",
   "execution_count": 40,
   "metadata": {},
   "outputs": [
    {
     "data": {
      "text/plain": [
       "0.0    8\n",
       "1.0    7\n",
       "2.0    5\n",
       "3.0    1\n",
       "Name: 2PGuests, dtype: int64"
      ]
     },
     "execution_count": 40,
     "metadata": {},
     "output_type": "execute_result"
    }
   ],
   "source": [
    "hockey[\"2PGuests\"].where(hockey[\"Гости\"] == \"Лос-Анджелес\").value_counts()"
   ]
  },
  {
   "cell_type": "code",
   "execution_count": 41,
   "metadata": {},
   "outputs": [
    {
     "data": {
      "text/plain": [
       "0.0    14\n",
       "1.0     7\n",
       "Name: 3PGuests, dtype: int64"
      ]
     },
     "execution_count": 41,
     "metadata": {},
     "output_type": "execute_result"
    }
   ],
   "source": [
    "hockey[\"3PGuests\"].where(hockey[\"Гости\"] == \"Лос-Анджелес\").value_counts()"
   ]
  },
  {
   "cell_type": "code",
   "execution_count": 42,
   "metadata": {},
   "outputs": [],
   "source": [
    "hockey = hockey.rename(columns={'Гости': 'Guests', 'Хозяева': 'Hosts'})"
   ]
  },
  {
   "cell_type": "code",
   "execution_count": 43,
   "metadata": {},
   "outputs": [],
   "source": [
    "hockey.to_csv(os.path.join(\"datasets\", \"hockey\", \"hockey.csv\"), sep=',', encoding='utf-8', index=False)"
   ]
  },
  {
   "cell_type": "code",
   "execution_count": 44,
   "metadata": {},
   "outputs": [],
   "source": [
    "from sklearn.model_selection import train_test_split\n",
    "\n",
    "train_set, test_set = train_test_split(hockey, test_size=0.2, random_state=42)"
   ]
  },
  {
   "cell_type": "code",
   "execution_count": 45,
   "metadata": {},
   "outputs": [
    {
     "data": {
      "text/html": [
       "<div>\n",
       "<style scoped>\n",
       "    .dataframe tbody tr th:only-of-type {\n",
       "        vertical-align: middle;\n",
       "    }\n",
       "\n",
       "    .dataframe tbody tr th {\n",
       "        vertical-align: top;\n",
       "    }\n",
       "\n",
       "    .dataframe thead th {\n",
       "        text-align: right;\n",
       "    }\n",
       "</style>\n",
       "<table border=\"1\" class=\"dataframe\">\n",
       "  <thead>\n",
       "    <tr style=\"text-align: right;\">\n",
       "      <th></th>\n",
       "      <th>Hosts</th>\n",
       "      <th>Guests</th>\n",
       "      <th>1PHosts</th>\n",
       "      <th>2PHosts</th>\n",
       "      <th>3PHosts</th>\n",
       "      <th>OTHosts</th>\n",
       "      <th>SSHosts</th>\n",
       "      <th>1PGuests</th>\n",
       "      <th>2PGuests</th>\n",
       "      <th>3PGuests</th>\n",
       "      <th>OTGuests</th>\n",
       "      <th>SSGuests</th>\n",
       "    </tr>\n",
       "  </thead>\n",
       "  <tbody>\n",
       "    <tr>\n",
       "      <th>192</th>\n",
       "      <td>Ванкувер</td>\n",
       "      <td>Колорадо</td>\n",
       "      <td>1</td>\n",
       "      <td>3</td>\n",
       "      <td>2</td>\n",
       "      <td>1</td>\n",
       "      <td>0</td>\n",
       "      <td>0</td>\n",
       "      <td>4</td>\n",
       "      <td>2</td>\n",
       "      <td>0</td>\n",
       "      <td>0</td>\n",
       "    </tr>\n",
       "    <tr>\n",
       "      <th>265</th>\n",
       "      <td>Нью-Джерси</td>\n",
       "      <td>Питтсбург</td>\n",
       "      <td>1</td>\n",
       "      <td>1</td>\n",
       "      <td>2</td>\n",
       "      <td>0</td>\n",
       "      <td>0</td>\n",
       "      <td>1</td>\n",
       "      <td>0</td>\n",
       "      <td>1</td>\n",
       "      <td>0</td>\n",
       "      <td>0</td>\n",
       "    </tr>\n",
       "    <tr>\n",
       "      <th>101</th>\n",
       "      <td>Филадельфия</td>\n",
       "      <td>Нью-Джерси</td>\n",
       "      <td>1</td>\n",
       "      <td>1</td>\n",
       "      <td>3</td>\n",
       "      <td>0</td>\n",
       "      <td>0</td>\n",
       "      <td>1</td>\n",
       "      <td>0</td>\n",
       "      <td>1</td>\n",
       "      <td>0</td>\n",
       "      <td>0</td>\n",
       "    </tr>\n",
       "    <tr>\n",
       "      <th>625</th>\n",
       "      <td>Айлендерс</td>\n",
       "      <td>Чикаго</td>\n",
       "      <td>1</td>\n",
       "      <td>1</td>\n",
       "      <td>0</td>\n",
       "      <td>1</td>\n",
       "      <td>0</td>\n",
       "      <td>1</td>\n",
       "      <td>0</td>\n",
       "      <td>1</td>\n",
       "      <td>0</td>\n",
       "      <td>0</td>\n",
       "    </tr>\n",
       "    <tr>\n",
       "      <th>523</th>\n",
       "      <td>Аризона</td>\n",
       "      <td>Айлендерс</td>\n",
       "      <td>1</td>\n",
       "      <td>0</td>\n",
       "      <td>0</td>\n",
       "      <td>0</td>\n",
       "      <td>0</td>\n",
       "      <td>1</td>\n",
       "      <td>2</td>\n",
       "      <td>0</td>\n",
       "      <td>0</td>\n",
       "      <td>0</td>\n",
       "    </tr>\n",
       "  </tbody>\n",
       "</table>\n",
       "</div>"
      ],
      "text/plain": [
       "           Hosts      Guests  1PHosts  2PHosts  3PHosts  OTHosts  SSHosts  \\\n",
       "192     Ванкувер    Колорадо        1        3        2        1        0   \n",
       "265   Нью-Джерси   Питтсбург        1        1        2        0        0   \n",
       "101  Филадельфия  Нью-Джерси        1        1        3        0        0   \n",
       "625    Айлендерс      Чикаго        1        1        0        1        0   \n",
       "523      Аризона   Айлендерс        1        0        0        0        0   \n",
       "\n",
       "     1PGuests  2PGuests  3PGuests  OTGuests  SSGuests  \n",
       "192         0         4         2         0         0  \n",
       "265         1         0         1         0         0  \n",
       "101         1         0         1         0         0  \n",
       "625         1         0         1         0         0  \n",
       "523         1         2         0         0         0  "
      ]
     },
     "execution_count": 45,
     "metadata": {},
     "output_type": "execute_result"
    }
   ],
   "source": [
    "test_set.head()"
   ]
  },
  {
   "cell_type": "code",
   "execution_count": 47,
   "metadata": {},
   "outputs": [],
   "source": [
    "hockey = train_set.copy()"
   ]
  },
  {
   "cell_type": "code",
   "execution_count": 51,
   "metadata": {},
   "outputs": [],
   "source": [
    "corr_matrix = hockey[[\"1PHosts\",\"2PHosts\",\"3PHosts\",\"OTHosts\",\"SSHosts\"]].where(hockey[\"Hosts\"] == \"Лос-Анджелес\").corr()"
   ]
  },
  {
   "cell_type": "code",
   "execution_count": 54,
   "metadata": {},
   "outputs": [
    {
     "data": {
      "text/html": [
       "<div>\n",
       "<style scoped>\n",
       "    .dataframe tbody tr th:only-of-type {\n",
       "        vertical-align: middle;\n",
       "    }\n",
       "\n",
       "    .dataframe tbody tr th {\n",
       "        vertical-align: top;\n",
       "    }\n",
       "\n",
       "    .dataframe thead th {\n",
       "        text-align: right;\n",
       "    }\n",
       "</style>\n",
       "<table border=\"1\" class=\"dataframe\">\n",
       "  <thead>\n",
       "    <tr style=\"text-align: right;\">\n",
       "      <th></th>\n",
       "      <th>Hosts</th>\n",
       "      <th>Guests</th>\n",
       "      <th>1PHosts</th>\n",
       "      <th>2PHosts</th>\n",
       "      <th>3PHosts</th>\n",
       "      <th>OTHosts</th>\n",
       "      <th>SSHosts</th>\n",
       "      <th>1PGuests</th>\n",
       "      <th>2PGuests</th>\n",
       "      <th>3PGuests</th>\n",
       "      <th>OTGuests</th>\n",
       "      <th>SSGuests</th>\n",
       "    </tr>\n",
       "  </thead>\n",
       "  <tbody>\n",
       "    <tr>\n",
       "      <th>0</th>\n",
       "      <td>Торонто</td>\n",
       "      <td>Монреаль</td>\n",
       "      <td>1</td>\n",
       "      <td>1</td>\n",
       "      <td>0</td>\n",
       "      <td>1</td>\n",
       "      <td>0</td>\n",
       "      <td>1</td>\n",
       "      <td>1</td>\n",
       "      <td>0</td>\n",
       "      <td>0</td>\n",
       "      <td>0</td>\n",
       "    </tr>\n",
       "    <tr>\n",
       "      <th>1</th>\n",
       "      <td>Вашингтон</td>\n",
       "      <td>Бостон</td>\n",
       "      <td>2</td>\n",
       "      <td>4</td>\n",
       "      <td>1</td>\n",
       "      <td>0</td>\n",
       "      <td>0</td>\n",
       "      <td>0</td>\n",
       "      <td>0</td>\n",
       "      <td>0</td>\n",
       "      <td>0</td>\n",
       "      <td>0</td>\n",
       "    </tr>\n",
       "    <tr>\n",
       "      <th>2</th>\n",
       "      <td>Ванкувер</td>\n",
       "      <td>Калгари</td>\n",
       "      <td>1</td>\n",
       "      <td>0</td>\n",
       "      <td>4</td>\n",
       "      <td>0</td>\n",
       "      <td>0</td>\n",
       "      <td>0</td>\n",
       "      <td>0</td>\n",
       "      <td>2</td>\n",
       "      <td>0</td>\n",
       "      <td>0</td>\n",
       "    </tr>\n",
       "    <tr>\n",
       "      <th>3</th>\n",
       "      <td>Сан-Хосе</td>\n",
       "      <td>Анахайм</td>\n",
       "      <td>1</td>\n",
       "      <td>1</td>\n",
       "      <td>0</td>\n",
       "      <td>0</td>\n",
       "      <td>0</td>\n",
       "      <td>1</td>\n",
       "      <td>1</td>\n",
       "      <td>3</td>\n",
       "      <td>0</td>\n",
       "      <td>0</td>\n",
       "    </tr>\n",
       "    <tr>\n",
       "      <th>4</th>\n",
       "      <td>Баффало</td>\n",
       "      <td>Бостон</td>\n",
       "      <td>0</td>\n",
       "      <td>0</td>\n",
       "      <td>0</td>\n",
       "      <td>0</td>\n",
       "      <td>0</td>\n",
       "      <td>2</td>\n",
       "      <td>1</td>\n",
       "      <td>1</td>\n",
       "      <td>0</td>\n",
       "      <td>0</td>\n",
       "    </tr>\n",
       "  </tbody>\n",
       "</table>\n",
       "</div>"
      ],
      "text/plain": [
       "       Hosts    Guests  1PHosts  2PHosts  3PHosts  OTHosts  SSHosts  1PGuests  \\\n",
       "0    Торонто  Монреаль        1        1        0        1        0         1   \n",
       "1  Вашингтон    Бостон        2        4        1        0        0         0   \n",
       "2   Ванкувер   Калгари        1        0        4        0        0         0   \n",
       "3   Сан-Хосе   Анахайм        1        1        0        0        0         1   \n",
       "4    Баффало    Бостон        0        0        0        0        0         2   \n",
       "\n",
       "   2PGuests  3PGuests  OTGuests  SSGuests  \n",
       "0         1         0         0         0  \n",
       "1         0         0         0         0  \n",
       "2         0         2         0         0  \n",
       "3         1         3         0         0  \n",
       "4         1         1         0         0  "
      ]
     },
     "execution_count": 54,
     "metadata": {},
     "output_type": "execute_result"
    }
   ],
   "source": [
    "hockey = load_hockey_data()\n",
    "hockey.head()"
   ]
  },
  {
   "cell_type": "code",
   "execution_count": 56,
   "metadata": {},
   "outputs": [],
   "source": [
    "from sklearn.model_selection import StratifiedShuffleSplit\n",
    "\n",
    "split = StratifiedShuffleSplit(n_splits=1, test_size=0.2, random_state=42)\n",
    "for train_index, test_index in split.split(hockey, hockey[\"Hosts\"]):\n",
    "    strat_train_set = hockey.loc[train_index]\n",
    "    strat_test_set = hockey.loc[test_index]"
   ]
  },
  {
   "cell_type": "code",
   "execution_count": 57,
   "metadata": {},
   "outputs": [],
   "source": [
    "hockey = strat_train_set.copy()"
   ]
  },
  {
   "cell_type": "code",
   "execution_count": 58,
   "metadata": {},
   "outputs": [
    {
     "data": {
      "text/plain": [
       "array([[<matplotlib.axes._subplots.AxesSubplot object at 0x000000001AD3D4A8>,\n",
       "        <matplotlib.axes._subplots.AxesSubplot object at 0x000000001AD667F0>],\n",
       "       [<matplotlib.axes._subplots.AxesSubplot object at 0x000000001AD8FD68>,\n",
       "        <matplotlib.axes._subplots.AxesSubplot object at 0x000000001ADBD320>]],\n",
       "      dtype=object)"
      ]
     },
     "execution_count": 58,
     "metadata": {},
     "output_type": "execute_result"
    },
    {
     "data": {
      "image/png": "[encoded data removed]",
      "text/plain": [
       "<Figure size 720x360 with 4 Axes>"
      ]
     },
     "metadata": {
      "needs_background": "light"
     },
     "output_type": "display_data"
    },
    {
     "data": {
      "image/png": "[encoded data removed]",
      "text/plain": [
       "<Figure size 720x360 with 4 Axes>"
      ]
     },
     "metadata": {
      "needs_background": "light"
     },
     "output_type": "display_data"
    }
   ],
   "source": [
    "hockey[[\"1PHosts\",\"2PHosts\",\"3PHosts\"]].where(hockey[\"Hosts\"] == \"Лос-Анджелес\").hist(figsize=(10,5))\n",
    "hockey[[\"1PGuests\",\"2PGuests\",\"3PGuests\"]].where(hockey[\"Guests\"] == \"Лос-Анджелес\").hist(figsize=(10,5))"
   ]
  },
  {
   "cell_type": "code",
   "execution_count": 59,
   "metadata": {},
   "outputs": [
    {
     "data": {
      "text/plain": [
       "1.0    10\n",
       "0.0     7\n",
       "2.0     1\n",
       "Name: 1PHosts, dtype: int64"
      ]
     },
     "execution_count": 59,
     "metadata": {},
     "output_type": "execute_result"
    }
   ],
   "source": [
    "hockey[\"1PHosts\"].where(hockey[\"Hosts\"] == \"Лос-Анджелес\").value_counts()"
   ]
  },
  {
   "cell_type": "code",
   "execution_count": 60,
   "metadata": {},
   "outputs": [
    {
     "data": {
      "text/plain": [
       "0.0    9\n",
       "2.0    6\n",
       "1.0    3\n",
       "Name: 2PHosts, dtype: int64"
      ]
     },
     "execution_count": 60,
     "metadata": {},
     "output_type": "execute_result"
    }
   ],
   "source": [
    "hockey[\"2PHosts\"].where(hockey[\"Hosts\"] == \"Лос-Анджелес\").value_counts()"
   ]
  },
  {
   "cell_type": "code",
   "execution_count": 61,
   "metadata": {},
   "outputs": [
    {
     "data": {
      "text/plain": [
       "0.0    7\n",
       "2.0    6\n",
       "1.0    5\n",
       "Name: 3PHosts, dtype: int64"
      ]
     },
     "execution_count": 61,
     "metadata": {},
     "output_type": "execute_result"
    }
   ],
   "source": [
    "hockey[\"1PHosts\"].where(hockey[\"Hosts\"] == \"Лос-Анджелес\").value_counts()"
   ]
  },
  {
   "cell_type": "code",
   "execution_count": 62,
   "metadata": {},
   "outputs": [],
   "source": [
    "corr_matrix = hockey[[\"1PHosts\",\"2PHosts\",\"3PHosts\",\"OTHosts\",\"SSHosts\"]].where(hockey[\"Hosts\"] == \"Лос-Анджелес\").corr()"
   ]
  },
  {
   "cell_type": "code",
   "execution_count": 65,
   "metadata": {},
   "outputs": [
    {
     "data": {
      "text/plain": [
       "1PHosts    1.000000e+00\n",
       "2PHosts   -2.975710e-18\n",
       "3PHosts   -1.512939e-01\n",
       "OTHosts             NaN\n",
       "SSHosts             NaN\n",
       "Name: 1PHosts, dtype: float64"
      ]
     },
     "execution_count": 65,
     "metadata": {},
     "output_type": "execute_result"
    }
   ],
   "source": [
    "corr_matrix[\"1PHosts\"].sort_values(ascending=False)"
   ]
  },
  {
   "cell_type": "code",
   "execution_count": 66,
   "metadata": {},
   "outputs": [],
   "source": [
    "hockey[\"CountHosts\"] = hockey[\"1PHosts\"] + hockey[\"2PHosts\"] + hockey[\"3PHosts\"] + hockey[\"OTHosts\"] + hockey[\"SSHosts\"] "
   ]
  },
  {
   "cell_type": "code",
   "execution_count": 67,
   "metadata": {},
   "outputs": [
    {
     "data": {
      "text/html": [
       "<div>\n",
       "<style scoped>\n",
       "    .dataframe tbody tr th:only-of-type {\n",
       "        vertical-align: middle;\n",
       "    }\n",
       "\n",
       "    .dataframe tbody tr th {\n",
       "        vertical-align: top;\n",
       "    }\n",
       "\n",
       "    .dataframe thead th {\n",
       "        text-align: right;\n",
       "    }\n",
       "</style>\n",
       "<table border=\"1\" class=\"dataframe\">\n",
       "  <thead>\n",
       "    <tr style=\"text-align: right;\">\n",
       "      <th></th>\n",
       "      <th>Hosts</th>\n",
       "      <th>Guests</th>\n",
       "      <th>1PHosts</th>\n",
       "      <th>2PHosts</th>\n",
       "      <th>3PHosts</th>\n",
       "      <th>OTHosts</th>\n",
       "      <th>SSHosts</th>\n",
       "      <th>1PGuests</th>\n",
       "      <th>2PGuests</th>\n",
       "      <th>3PGuests</th>\n",
       "      <th>OTGuests</th>\n",
       "      <th>SSGuests</th>\n",
       "    </tr>\n",
       "  </thead>\n",
       "  <tbody>\n",
       "    <tr>\n",
       "      <th>0</th>\n",
       "      <td>Торонто</td>\n",
       "      <td>Монреаль</td>\n",
       "      <td>1</td>\n",
       "      <td>1</td>\n",
       "      <td>0</td>\n",
       "      <td>1</td>\n",
       "      <td>0</td>\n",
       "      <td>1</td>\n",
       "      <td>1</td>\n",
       "      <td>0</td>\n",
       "      <td>0</td>\n",
       "      <td>0</td>\n",
       "    </tr>\n",
       "    <tr>\n",
       "      <th>1</th>\n",
       "      <td>Вашингтон</td>\n",
       "      <td>Бостон</td>\n",
       "      <td>2</td>\n",
       "      <td>4</td>\n",
       "      <td>1</td>\n",
       "      <td>0</td>\n",
       "      <td>0</td>\n",
       "      <td>0</td>\n",
       "      <td>0</td>\n",
       "      <td>0</td>\n",
       "      <td>0</td>\n",
       "      <td>0</td>\n",
       "    </tr>\n",
       "    <tr>\n",
       "      <th>2</th>\n",
       "      <td>Ванкувер</td>\n",
       "      <td>Калгари</td>\n",
       "      <td>1</td>\n",
       "      <td>0</td>\n",
       "      <td>4</td>\n",
       "      <td>0</td>\n",
       "      <td>0</td>\n",
       "      <td>0</td>\n",
       "      <td>0</td>\n",
       "      <td>2</td>\n",
       "      <td>0</td>\n",
       "      <td>0</td>\n",
       "    </tr>\n",
       "    <tr>\n",
       "      <th>3</th>\n",
       "      <td>Сан-Хосе</td>\n",
       "      <td>Анахайм</td>\n",
       "      <td>1</td>\n",
       "      <td>1</td>\n",
       "      <td>0</td>\n",
       "      <td>0</td>\n",
       "      <td>0</td>\n",
       "      <td>1</td>\n",
       "      <td>1</td>\n",
       "      <td>3</td>\n",
       "      <td>0</td>\n",
       "      <td>0</td>\n",
       "    </tr>\n",
       "    <tr>\n",
       "      <th>4</th>\n",
       "      <td>Баффало</td>\n",
       "      <td>Бостон</td>\n",
       "      <td>0</td>\n",
       "      <td>0</td>\n",
       "      <td>0</td>\n",
       "      <td>0</td>\n",
       "      <td>0</td>\n",
       "      <td>2</td>\n",
       "      <td>1</td>\n",
       "      <td>1</td>\n",
       "      <td>0</td>\n",
       "      <td>0</td>\n",
       "    </tr>\n",
       "  </tbody>\n",
       "</table>\n",
       "</div>"
      ],
      "text/plain": [
       "       Hosts    Guests  1PHosts  2PHosts  3PHosts  OTHosts  SSHosts  1PGuests  \\\n",
       "0    Торонто  Монреаль        1        1        0        1        0         1   \n",
       "1  Вашингтон    Бостон        2        4        1        0        0         0   \n",
       "2   Ванкувер   Калгари        1        0        4        0        0         0   \n",
       "3   Сан-Хосе   Анахайм        1        1        0        0        0         1   \n",
       "4    Баффало    Бостон        0        0        0        0        0         2   \n",
       "\n",
       "   2PGuests  3PGuests  OTGuests  SSGuests  \n",
       "0         1         0         0         0  \n",
       "1         0         0         0         0  \n",
       "2         0         2         0         0  \n",
       "3         1         3         0         0  \n",
       "4         1         1         0         0  "
      ]
     },
     "execution_count": 67,
     "metadata": {},
     "output_type": "execute_result"
    }
   ],
   "source": [
    "hockey = load_hockey_data()\n",
    "hockey.head()"
   ]
  },
  {
   "cell_type": "code",
   "execution_count": 68,
   "metadata": {},
   "outputs": [],
   "source": [
    "hockey[\"CountHosts\"] = hockey[\"1PHosts\"] + hockey[\"2PHosts\"] + hockey[\"3PHosts\"] + hockey[\"OTHosts\"] + hockey[\"SSHosts\"] "
   ]
  },
  {
   "cell_type": "code",
   "execution_count": 69,
   "metadata": {},
   "outputs": [],
   "source": [
    "hockey[\"CountGuests\"] = hockey[\"1PGuests\"] + hockey[\"2PGuests\"] + hockey[\"3PGuests\"] + hockey[\"OTGuests\"] + hockey[\"SSGuests\"] "
   ]
  },
  {
   "cell_type": "code",
   "execution_count": 70,
   "metadata": {},
   "outputs": [
    {
     "data": {
      "text/html": [
       "<div>\n",
       "<style scoped>\n",
       "    .dataframe tbody tr th:only-of-type {\n",
       "        vertical-align: middle;\n",
       "    }\n",
       "\n",
       "    .dataframe tbody tr th {\n",
       "        vertical-align: top;\n",
       "    }\n",
       "\n",
       "    .dataframe thead th {\n",
       "        text-align: right;\n",
       "    }\n",
       "</style>\n",
       "<table border=\"1\" class=\"dataframe\">\n",
       "  <thead>\n",
       "    <tr style=\"text-align: right;\">\n",
       "      <th></th>\n",
       "      <th>Hosts</th>\n",
       "      <th>Guests</th>\n",
       "      <th>1PHosts</th>\n",
       "      <th>2PHosts</th>\n",
       "      <th>3PHosts</th>\n",
       "      <th>OTHosts</th>\n",
       "      <th>SSHosts</th>\n",
       "      <th>1PGuests</th>\n",
       "      <th>2PGuests</th>\n",
       "      <th>3PGuests</th>\n",
       "      <th>OTGuests</th>\n",
       "      <th>SSGuests</th>\n",
       "      <th>CountHosts</th>\n",
       "      <th>CountGuests</th>\n",
       "    </tr>\n",
       "  </thead>\n",
       "  <tbody>\n",
       "    <tr>\n",
       "      <th>0</th>\n",
       "      <td>Торонто</td>\n",
       "      <td>Монреаль</td>\n",
       "      <td>1</td>\n",
       "      <td>1</td>\n",
       "      <td>0</td>\n",
       "      <td>1</td>\n",
       "      <td>0</td>\n",
       "      <td>1</td>\n",
       "      <td>1</td>\n",
       "      <td>0</td>\n",
       "      <td>0</td>\n",
       "      <td>0</td>\n",
       "      <td>3</td>\n",
       "      <td>2</td>\n",
       "    </tr>\n",
       "    <tr>\n",
       "      <th>1</th>\n",
       "      <td>Вашингтон</td>\n",
       "      <td>Бостон</td>\n",
       "      <td>2</td>\n",
       "      <td>4</td>\n",
       "      <td>1</td>\n",
       "      <td>0</td>\n",
       "      <td>0</td>\n",
       "      <td>0</td>\n",
       "      <td>0</td>\n",
       "      <td>0</td>\n",
       "      <td>0</td>\n",
       "      <td>0</td>\n",
       "      <td>7</td>\n",
       "      <td>0</td>\n",
       "    </tr>\n",
       "    <tr>\n",
       "      <th>2</th>\n",
       "      <td>Ванкувер</td>\n",
       "      <td>Калгари</td>\n",
       "      <td>1</td>\n",
       "      <td>0</td>\n",
       "      <td>4</td>\n",
       "      <td>0</td>\n",
       "      <td>0</td>\n",
       "      <td>0</td>\n",
       "      <td>0</td>\n",
       "      <td>2</td>\n",
       "      <td>0</td>\n",
       "      <td>0</td>\n",
       "      <td>5</td>\n",
       "      <td>2</td>\n",
       "    </tr>\n",
       "    <tr>\n",
       "      <th>3</th>\n",
       "      <td>Сан-Хосе</td>\n",
       "      <td>Анахайм</td>\n",
       "      <td>1</td>\n",
       "      <td>1</td>\n",
       "      <td>0</td>\n",
       "      <td>0</td>\n",
       "      <td>0</td>\n",
       "      <td>1</td>\n",
       "      <td>1</td>\n",
       "      <td>3</td>\n",
       "      <td>0</td>\n",
       "      <td>0</td>\n",
       "      <td>2</td>\n",
       "      <td>5</td>\n",
       "    </tr>\n",
       "    <tr>\n",
       "      <th>4</th>\n",
       "      <td>Баффало</td>\n",
       "      <td>Бостон</td>\n",
       "      <td>0</td>\n",
       "      <td>0</td>\n",
       "      <td>0</td>\n",
       "      <td>0</td>\n",
       "      <td>0</td>\n",
       "      <td>2</td>\n",
       "      <td>1</td>\n",
       "      <td>1</td>\n",
       "      <td>0</td>\n",
       "      <td>0</td>\n",
       "      <td>0</td>\n",
       "      <td>4</td>\n",
       "    </tr>\n",
       "  </tbody>\n",
       "</table>\n",
       "</div>"
      ],
      "text/plain": [
       "       Hosts    Guests  1PHosts  2PHosts  3PHosts  OTHosts  SSHosts  1PGuests  \\\n",
       "0    Торонто  Монреаль        1        1        0        1        0         1   \n",
       "1  Вашингтон    Бостон        2        4        1        0        0         0   \n",
       "2   Ванкувер   Калгари        1        0        4        0        0         0   \n",
       "3   Сан-Хосе   Анахайм        1        1        0        0        0         1   \n",
       "4    Баффало    Бостон        0        0        0        0        0         2   \n",
       "\n",
       "   2PGuests  3PGuests  OTGuests  SSGuests  CountHosts  CountGuests  \n",
       "0         1         0         0         0           3            2  \n",
       "1         0         0         0         0           7            0  \n",
       "2         0         2         0         0           5            2  \n",
       "3         1         3         0         0           2            5  \n",
       "4         1         1         0         0           0            4  "
      ]
     },
     "execution_count": 70,
     "metadata": {},
     "output_type": "execute_result"
    }
   ],
   "source": [
    "hockey.head()"
   ]
  },
  {
   "cell_type": "code",
   "execution_count": 71,
   "metadata": {},
   "outputs": [],
   "source": [
    "hockey.to_csv(os.path.join(\"datasets\", \"hockey\", \"hockey.csv\"), sep=',', encoding='utf-8', index=False)"
   ]
  },
  {
   "cell_type": "code",
   "execution_count": 72,
   "metadata": {},
   "outputs": [
    {
     "data": {
      "text/html": [
       "<div>\n",
       "<style scoped>\n",
       "    .dataframe tbody tr th:only-of-type {\n",
       "        vertical-align: middle;\n",
       "    }\n",
       "\n",
       "    .dataframe tbody tr th {\n",
       "        vertical-align: top;\n",
       "    }\n",
       "\n",
       "    .dataframe thead th {\n",
       "        text-align: right;\n",
       "    }\n",
       "</style>\n",
       "<table border=\"1\" class=\"dataframe\">\n",
       "  <thead>\n",
       "    <tr style=\"text-align: right;\">\n",
       "      <th></th>\n",
       "      <th>Hosts</th>\n",
       "      <th>Guests</th>\n",
       "      <th>1PHosts</th>\n",
       "      <th>2PHosts</th>\n",
       "      <th>3PHosts</th>\n",
       "      <th>OTHosts</th>\n",
       "      <th>SSHosts</th>\n",
       "      <th>1PGuests</th>\n",
       "      <th>2PGuests</th>\n",
       "      <th>3PGuests</th>\n",
       "      <th>OTGuests</th>\n",
       "      <th>SSGuests</th>\n",
       "      <th>CountHosts</th>\n",
       "      <th>CountGuests</th>\n",
       "    </tr>\n",
       "  </thead>\n",
       "  <tbody>\n",
       "    <tr>\n",
       "      <th>0</th>\n",
       "      <td>Торонто</td>\n",
       "      <td>Монреаль</td>\n",
       "      <td>1</td>\n",
       "      <td>1</td>\n",
       "      <td>0</td>\n",
       "      <td>1</td>\n",
       "      <td>0</td>\n",
       "      <td>1</td>\n",
       "      <td>1</td>\n",
       "      <td>0</td>\n",
       "      <td>0</td>\n",
       "      <td>0</td>\n",
       "      <td>3</td>\n",
       "      <td>2</td>\n",
       "    </tr>\n",
       "    <tr>\n",
       "      <th>1</th>\n",
       "      <td>Вашингтон</td>\n",
       "      <td>Бостон</td>\n",
       "      <td>2</td>\n",
       "      <td>4</td>\n",
       "      <td>1</td>\n",
       "      <td>0</td>\n",
       "      <td>0</td>\n",
       "      <td>0</td>\n",
       "      <td>0</td>\n",
       "      <td>0</td>\n",
       "      <td>0</td>\n",
       "      <td>0</td>\n",
       "      <td>7</td>\n",
       "      <td>0</td>\n",
       "    </tr>\n",
       "    <tr>\n",
       "      <th>2</th>\n",
       "      <td>Ванкувер</td>\n",
       "      <td>Калгари</td>\n",
       "      <td>1</td>\n",
       "      <td>0</td>\n",
       "      <td>4</td>\n",
       "      <td>0</td>\n",
       "      <td>0</td>\n",
       "      <td>0</td>\n",
       "      <td>0</td>\n",
       "      <td>2</td>\n",
       "      <td>0</td>\n",
       "      <td>0</td>\n",
       "      <td>5</td>\n",
       "      <td>2</td>\n",
       "    </tr>\n",
       "    <tr>\n",
       "      <th>3</th>\n",
       "      <td>Сан-Хосе</td>\n",
       "      <td>Анахайм</td>\n",
       "      <td>1</td>\n",
       "      <td>1</td>\n",
       "      <td>0</td>\n",
       "      <td>0</td>\n",
       "      <td>0</td>\n",
       "      <td>1</td>\n",
       "      <td>1</td>\n",
       "      <td>3</td>\n",
       "      <td>0</td>\n",
       "      <td>0</td>\n",
       "      <td>2</td>\n",
       "      <td>5</td>\n",
       "    </tr>\n",
       "    <tr>\n",
       "      <th>4</th>\n",
       "      <td>Баффало</td>\n",
       "      <td>Бостон</td>\n",
       "      <td>0</td>\n",
       "      <td>0</td>\n",
       "      <td>0</td>\n",
       "      <td>0</td>\n",
       "      <td>0</td>\n",
       "      <td>2</td>\n",
       "      <td>1</td>\n",
       "      <td>1</td>\n",
       "      <td>0</td>\n",
       "      <td>0</td>\n",
       "      <td>0</td>\n",
       "      <td>4</td>\n",
       "    </tr>\n",
       "  </tbody>\n",
       "</table>\n",
       "</div>"
      ],
      "text/plain": [
       "       Hosts    Guests  1PHosts  2PHosts  3PHosts  OTHosts  SSHosts  1PGuests  \\\n",
       "0    Торонто  Монреаль        1        1        0        1        0         1   \n",
       "1  Вашингтон    Бостон        2        4        1        0        0         0   \n",
       "2   Ванкувер   Калгари        1        0        4        0        0         0   \n",
       "3   Сан-Хосе   Анахайм        1        1        0        0        0         1   \n",
       "4    Баффало    Бостон        0        0        0        0        0         2   \n",
       "\n",
       "   2PGuests  3PGuests  OTGuests  SSGuests  CountHosts  CountGuests  \n",
       "0         1         0         0         0           3            2  \n",
       "1         0         0         0         0           7            0  \n",
       "2         0         2         0         0           5            2  \n",
       "3         1         3         0         0           2            5  \n",
       "4         1         1         0         0           0            4  "
      ]
     },
     "execution_count": 72,
     "metadata": {},
     "output_type": "execute_result"
    }
   ],
   "source": [
    "hockey = load_hockey_data()\n",
    "hockey.head()"
   ]
  },
  {
   "cell_type": "code",
   "execution_count": 73,
   "metadata": {},
   "outputs": [],
   "source": [
    "from sklearn.model_selection import StratifiedShuffleSplit\n",
    "\n",
    "split = StratifiedShuffleSplit(n_splits=1, test_size=0.2, random_state=42)\n",
    "for train_index, test_index in split.split(hockey, hockey[\"Hosts\"]):\n",
    "    strat_train_set = hockey.loc[train_index]\n",
    "    strat_test_set = hockey.loc[test_index]"
   ]
  },
  {
   "cell_type": "code",
   "execution_count": 74,
   "metadata": {},
   "outputs": [],
   "source": [
    "hockey = strat_train_set.copy()"
   ]
  },
  {
   "cell_type": "code",
   "execution_count": 77,
   "metadata": {},
   "outputs": [],
   "source": [
    "corr_matrix = hockey[[\"1PHosts\",\"2PHosts\",\"3PHosts\",\"OTHosts\",\"SSHosts\",\"CountHosts\"]].where(hockey[\"Hosts\"] == \"Лос-Анджелес\").corr()"
   ]
  },
  {
   "cell_type": "code",
   "execution_count": 78,
   "metadata": {},
   "outputs": [
    {
     "data": {
      "text/plain": [
       "CountHosts    1.000000\n",
       "2PHosts       0.754019\n",
       "3PHosts       0.665033\n",
       "1PHosts       0.315584\n",
       "OTHosts            NaN\n",
       "SSHosts            NaN\n",
       "Name: CountHosts, dtype: float64"
      ]
     },
     "execution_count": 78,
     "metadata": {},
     "output_type": "execute_result"
    }
   ],
   "source": [
    "corr_matrix[\"CountHosts\"].sort_values(ascending=False)"
   ]
  },
  {
   "cell_type": "code",
   "execution_count": 81,
   "metadata": {},
   "outputs": [
    {
     "name": "stderr",
     "output_type": "stream",
     "text": [
      "c:\\users\\katirkin\\appdata\\local\\programs\\python\\python36\\lib\\site-packages\\pandas\\plotting\\_misc.py:108: UserWarning: Attempting to set identical left==right results\n",
      "in singular transformations; automatically expanding.\n",
      "left=0.0, right=0.0\n",
      "  ax.set_xlim(boundaries_list[j])\n",
      "c:\\users\\katirkin\\appdata\\local\\programs\\python\\python36\\lib\\site-packages\\pandas\\plotting\\_misc.py:109: UserWarning: Attempting to set identical bottom==top results\n",
      "in singular transformations; automatically expanding.\n",
      "bottom=0.0, top=0.0\n",
      "  ax.set_ylim(boundaries_list[i])\n",
      "c:\\users\\katirkin\\appdata\\local\\programs\\python\\python36\\lib\\site-packages\\pandas\\plotting\\_misc.py:100: UserWarning: Attempting to set identical left==right results\n",
      "in singular transformations; automatically expanding.\n",
      "left=0.0, right=0.0\n",
      "  ax.set_xlim(boundaries_list[i])\n"
     ]
    },
    {
     "data": {
      "text/plain": [
       "array([[<matplotlib.axes._subplots.AxesSubplot object at 0x000000001F11FEF0>,\n",
       "        <matplotlib.axes._subplots.AxesSubplot object at 0x000000001FA61048>,\n",
       "        <matplotlib.axes._subplots.AxesSubplot object at 0x000000001FAEA3C8>,\n",
       "        <matplotlib.axes._subplots.AxesSubplot object at 0x000000001FBB2630>,\n",
       "        <matplotlib.axes._subplots.AxesSubplot object at 0x000000001FBB6898>,\n",
       "        <matplotlib.axes._subplots.AxesSubplot object at 0x000000001F7D8B00>],\n",
       "       [<matplotlib.axes._subplots.AxesSubplot object at 0x000000001F7F8D68>,\n",
       "        <matplotlib.axes._subplots.AxesSubplot object at 0x000000001F81AFD0>,\n",
       "        <matplotlib.axes._subplots.AxesSubplot object at 0x000000001F822080>,\n",
       "        <matplotlib.axes._subplots.AxesSubplot object at 0x000000001F864518>,\n",
       "        <matplotlib.axes._subplots.AxesSubplot object at 0x000000001F886A90>,\n",
       "        <matplotlib.axes._subplots.AxesSubplot object at 0x000000001F8B3048>],\n",
       "       [<matplotlib.axes._subplots.AxesSubplot object at 0x000000001F8DB5C0>,\n",
       "        <matplotlib.axes._subplots.AxesSubplot object at 0x000000001F901B38>,\n",
       "        <matplotlib.axes._subplots.AxesSubplot object at 0x000000001F9320F0>,\n",
       "        <matplotlib.axes._subplots.AxesSubplot object at 0x000000001F95A668>,\n",
       "        <matplotlib.axes._subplots.AxesSubplot object at 0x000000001F982BE0>,\n",
       "        <matplotlib.axes._subplots.AxesSubplot object at 0x000000001FD44198>],\n",
       "       [<matplotlib.axes._subplots.AxesSubplot object at 0x000000001FD6B710>,\n",
       "        <matplotlib.axes._subplots.AxesSubplot object at 0x000000001FD94C88>,\n",
       "        <matplotlib.axes._subplots.AxesSubplot object at 0x000000001FDC4240>,\n",
       "        <matplotlib.axes._subplots.AxesSubplot object at 0x00000000201FB7B8>,\n",
       "        <matplotlib.axes._subplots.AxesSubplot object at 0x0000000020223D30>,\n",
       "        <matplotlib.axes._subplots.AxesSubplot object at 0x00000000202562E8>],\n",
       "       [<matplotlib.axes._subplots.AxesSubplot object at 0x000000002027D860>,\n",
       "        <matplotlib.axes._subplots.AxesSubplot object at 0x00000000202A5DD8>,\n",
       "        <matplotlib.axes._subplots.AxesSubplot object at 0x00000000202D6390>,\n",
       "        <matplotlib.axes._subplots.AxesSubplot object at 0x00000000202FE908>,\n",
       "        <matplotlib.axes._subplots.AxesSubplot object at 0x0000000020325E80>,\n",
       "        <matplotlib.axes._subplots.AxesSubplot object at 0x0000000020356438>],\n",
       "       [<matplotlib.axes._subplots.AxesSubplot object at 0x000000002058E9B0>,\n",
       "        <matplotlib.axes._subplots.AxesSubplot object at 0x00000000205B6F28>,\n",
       "        <matplotlib.axes._subplots.AxesSubplot object at 0x00000000205E64E0>,\n",
       "        <matplotlib.axes._subplots.AxesSubplot object at 0x000000002060EA58>,\n",
       "        <matplotlib.axes._subplots.AxesSubplot object at 0x0000000020637FD0>,\n",
       "        <matplotlib.axes._subplots.AxesSubplot object at 0x0000000020667588>]],\n",
       "      dtype=object)"
      ]
     },
     "execution_count": 81,
     "metadata": {},
     "output_type": "execute_result"
    },
    {
     "data": {
      "image/png": "[encoded data removed]",
      "text/plain": [
       "<Figure size 864x576 with 36 Axes>"
      ]
     },
     "metadata": {
      "needs_background": "light"
     },
     "output_type": "display_data"
    }
   ],
   "source": [
    "from pandas.plotting import scatter_matrix\n",
    "\n",
    "attributes = [\"1PHosts\",\"2PHosts\",\"3PHosts\",\"OTHosts\",\"SSHosts\",\"CountHosts\"]\n",
    "scatter_matrix(hockey[[\"1PHosts\",\"2PHosts\",\"3PHosts\",\"OTHosts\",\"SSHosts\",\"CountHosts\"]].where(hockey[\"Hosts\"] == \"Лос-Анджелес\"), figsize=(12, 8))"
   ]
  },
  {
   "cell_type": "code",
   "execution_count": null,
   "metadata": {},
   "outputs": [],
   "source": []
  }
 ],
 "metadata": {
  "kernelspec": {
   "display_name": "Python 3",
   "language": "python",
   "name": "python3"
  },
  "language_info": {
   "codemirror_mode": {
    "name": "ipython",
    "version": 3
   },
   "file_extension": ".py",
   "mimetype": "text/x-python",
   "name": "python",
   "nbconvert_exporter": "python",
   "pygments_lexer": "ipython3",
   "version": "3.6.4"
  }
 },
 "nbformat": 4,
 "nbformat_minor": 2
}
